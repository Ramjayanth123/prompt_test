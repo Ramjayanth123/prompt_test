{
 "cells": [
  {
   "cell_type": "code",
   "execution_count": 1,
   "metadata": {
    "colab": {
     "base_uri": "https://localhost:8080/"
    },
    "id": "IttYTMGL9qtG",
    "outputId": "74a55df3-43a0-4be1-d4d7-9d8ff266b825"
   },
   "outputs": [
    {
     "name": "stdout",
     "output_type": "stream",
     "text": [
      "\u001b[2K   \u001b[90m━━━━━━━━━━━━━━━━━━━━━━━━━━━━━━━━━━━━━━━━\u001b[0m \u001b[32m363.4/363.4 MB\u001b[0m \u001b[31m4.3 MB/s\u001b[0m eta \u001b[36m0:00:00\u001b[0m\n",
      "\u001b[2K   \u001b[90m━━━━━━━━━━━━━━━━━━━━━━━━━━━━━━━━━━━━━━━━\u001b[0m \u001b[32m13.8/13.8 MB\u001b[0m \u001b[31m123.2 MB/s\u001b[0m eta \u001b[36m0:00:00\u001b[0m\n",
      "\u001b[2K   \u001b[90m━━━━━━━━━━━━━━━━━━━━━━━━━━━━━━━━━━━━━━━━\u001b[0m \u001b[32m24.6/24.6 MB\u001b[0m \u001b[31m88.7 MB/s\u001b[0m eta \u001b[36m0:00:00\u001b[0m\n",
      "\u001b[2K   \u001b[90m━━━━━━━━━━━━━━━━━━━━━━━━━━━━━━━━━━━━━━━━\u001b[0m \u001b[32m883.7/883.7 kB\u001b[0m \u001b[31m62.3 MB/s\u001b[0m eta \u001b[36m0:00:00\u001b[0m\n",
      "\u001b[2K   \u001b[90m━━━━━━━━━━━━━━━━━━━━━━━━━━━━━━━━━━━━━━━━\u001b[0m \u001b[32m664.8/664.8 MB\u001b[0m \u001b[31m1.3 MB/s\u001b[0m eta \u001b[36m0:00:00\u001b[0m\n",
      "\u001b[2K   \u001b[90m━━━━━━━━━━━━━━━━━━━━━━━━━━━━━━━━━━━━━━━━\u001b[0m \u001b[32m211.5/211.5 MB\u001b[0m \u001b[31m5.4 MB/s\u001b[0m eta \u001b[36m0:00:00\u001b[0m\n",
      "\u001b[2K   \u001b[90m━━━━━━━━━━━━━━━━━━━━━━━━━━━━━━━━━━━━━━━━\u001b[0m \u001b[32m56.3/56.3 MB\u001b[0m \u001b[31m11.9 MB/s\u001b[0m eta \u001b[36m0:00:00\u001b[0m\n",
      "\u001b[2K   \u001b[90m━━━━━━━━━━━━━━━━━━━━━━━━━━━━━━━━━━━━━━━━\u001b[0m \u001b[32m127.9/127.9 MB\u001b[0m \u001b[31m7.3 MB/s\u001b[0m eta \u001b[36m0:00:00\u001b[0m\n",
      "\u001b[2K   \u001b[90m━━━━━━━━━━━━━━━━━━━━━━━━━━━━━━━━━━━━━━━━\u001b[0m \u001b[32m207.5/207.5 MB\u001b[0m \u001b[31m5.4 MB/s\u001b[0m eta \u001b[36m0:00:00\u001b[0m\n",
      "\u001b[2K   \u001b[90m━━━━━━━━━━━━━━━━━━━━━━━━━━━━━━━━━━━━━━━━\u001b[0m \u001b[32m21.1/21.1 MB\u001b[0m \u001b[31m43.7 MB/s\u001b[0m eta \u001b[36m0:00:00\u001b[0m\n",
      "\u001b[2K   \u001b[90m━━━━━━━━━━━━━━━━━━━━━━━━━━━━━━━━━━━━━━━━\u001b[0m \u001b[32m67.0/67.0 MB\u001b[0m \u001b[31m12.3 MB/s\u001b[0m eta \u001b[36m0:00:00\u001b[0m\n",
      "\u001b[?25h"
     ]
    }
   ],
   "source": [
    "# Install required packages\n",
    "!pip install -q transformers torch numpy pandas matplotlib tqdm colorama accelerate bitsandbytes sentencepiece einops requests scikit-learn\n"
   ]
  },
  {
   "cell_type": "code",
   "execution_count": 2,
   "metadata": {
    "id": "1J70pQ8w_64N"
   },
   "outputs": [],
   "source": [
    "# Import necessary libraries\n",
    "import os\n",
    "import sys\n",
    "import json\n",
    "import re\n",
    "import torch\n",
    "import numpy as np\n",
    "import pandas as pd\n",
    "import matplotlib.pyplot as plt\n",
    "import seaborn as sns\n",
    "from tqdm.auto import tqdm\n",
    "from colorama import Fore, Style\n",
    "import logging\n",
    "import requests\n",
    "import gc\n",
    "from datetime import datetime\n",
    "from transformers import AutoTokenizer, AutoModelForCausalLM, pipeline\n",
    "from sklearn.metrics.pairwise import cosine_similarity"
   ]
  },
  {
   "cell_type": "code",
   "execution_count": 3,
   "metadata": {
    "id": "ojKEnYjgAFNe"
   },
   "outputs": [],
   "source": [
    "logging.basicConfig(level=logging.INFO, format='%(asctime)s - %(levelname)s - %(message)s')\n",
    "logger = logging.getLogger(__name__)\n",
    "\n",
    "device = torch.device(\"cuda\" if torch.cuda.is_available() else \"cpu\")\n",
    "logger.info(f\"Using device: {device}\")\n",
    "\n",
    "def clear_memory():\n",
    "    if torch.cuda.is_available():\n",
    "        torch.cuda.empty_cache()\n",
    "    gc.collect()\n",
    "    logger.info(\"Memory cleared\")"
   ]
  },
  {
   "cell_type": "code",
   "execution_count": 4,
   "metadata": {
    "colab": {
     "base_uri": "https://localhost:8080/",
     "height": 616,
     "referenced_widgets": [
      "897bccf5acb048a2a5f6c25081209159",
      "86c868416e7b44a790336872a291e103",
      "45487294aab14e5786c2735f2d8c244a",
      "20b4d57b8ab047a6958b46038788fd77",
      "49d1131684844889bf1755723e8e01f7",
      "b6ff4f930ed14569b2196fe6684a4ead",
      "de220411bc514f448a255a68bfa6e1a6",
      "04ac7a73da53463984b3c47a98c946a2",
      "f4b9bd517c3e43d5b1b1defa26eb91f1",
      "0c73eddd6b154ea385aff5e51b6798e8",
      "37bed1136e124d5292076a555b698e0f",
      "ee4d8531023c426aa537755ed149af4a",
      "05351f8bd40c4ed4b220026937842db2",
      "c0f19e49a9b34ec08a303fd9125502ff",
      "71f53ad217bc46228e711eb9d5c26530",
      "5436cb12ec3848c0b14851f8e3632bdc",
      "389f702dd0764fac8953782db1be4e0d",
      "347ea2e0f5904f0787d8b5ef77ff9bb5",
      "aee5b90cf905463cb29b495316befb84",
      "a96a599049504492b4ea24d3edfad670",
      "1264ef6e8b2d4b7583eb913aaa2dd3e7",
      "94f781358c7e4af0bbb627d86fc88242",
      "9687d726f9e1490286a509b1b468ef6e",
      "d686ce44e7bd410c96ad4167d7c5d9dc",
      "22e55324386245efae6e88cd8ee667a2",
      "9a815ef57d104dbea985dfd840d5083d",
      "f90905435e3144ce985dc3d271b8b03e",
      "37bce743d8e844b9839f270d0a1615d1",
      "6f96f4e091bd4e74b2da1d2f7e80dc5a",
      "226c2a7475bc46f1992ebe60f3fb437e",
      "fc4b1d53a3074d43b8b0b090e6e55883",
      "8908275947264bb29e93bf66f42d0fc3",
      "e2a163fdc1034cc3a844565bb96b3d83",
      "1177252067f84d15bcb125dff3fd24e6",
      "ad11e0605da04d07839997dfd2eee7c5",
      "875eb09293fe411b8214c952d706f2ca",
      "f8402c1039534b70b9a529a88fd9d806",
      "186591277d27411ba521af8f89574030",
      "e5c20d76bfb24a339739e1910149ba89",
      "db7bf587a3dd4b2baed0e947f37a6f19",
      "55533013017e4c8680a1c450ecdfa447",
      "54cd04fdb0764388912a4fea79556864",
      "7d2389afd5a74a049137723a9e880f01",
      "e5161ccbaecc476da2b5c29dddd85657",
      "ce2b4ab9b08b4e4a8a5f4dd3506ff7a4",
      "38caecd1ed7e40ed80a7fdf2d56afb62",
      "9fcb489e4d3f49f0b99b5e829cccd583",
      "bb00fd135bf2425bb38a27a9e8527055",
      "c64c966794f640d7a3cde1811ec130a8",
      "e2abe76d726641f1b1209aaa45c3cc99",
      "8ea0a8efc2954b449ab6ea52eac3810c",
      "57352a7cdaf94000bae0df8f670b7e36",
      "a2c746dab8d1460cb9e3bd00c66c6883",
      "36bc9c4b32f24d23a34d228770c662aa",
      "73f62906ccfc40b39034d254e478e9a0",
      "82dd534f44ac4e54b95d21eadbfd86f8",
      "165a71bb5c4a47a8885d23fdbfa5ad59",
      "ccc9b703d8b543c09b7a4eb808c1085e",
      "0fd16beb34764e64a7231b7b613875b7",
      "3ed93d3a9b944689b247e768cb644df6",
      "4e9a6118c6144bf6b5ccc6630aad040e",
      "478898f799bb407c8f0986611d60d3b5",
      "6772bcfdde5b4e4fb89dfb0165734765",
      "f48a814ede3e412ea8872f93b059e2f1",
      "c1930887e21b4ef0a423c27d7d8028dd",
      "ad36b469404b4de09afad1840a9d59b5",
      "cc62c872d5294387b1a49ab581e2c37e",
      "28d69055110542f2b4447bb937f91b12",
      "8a10b2d2c35749babc8a8ffebbd66b85",
      "3342ec1e945f42178576dfad50e51872",
      "f7dda58ed4144c1e8710675b46ec3a22",
      "142c0a0372ad4eebb79b5c7875c67ef1",
      "fe9954b4194b42b6bc61832a75b37903",
      "83a31826cc214386b016a3062dbed34f",
      "853113c5509e411ba744425f9925a9a8",
      "0034c096f0c445208f4a7504f2cb62b7",
      "e5c23b946fee4bbeabf00cf60b8f58c2",
      "d2fbca90340a4d788b8cf3e88aa1a171",
      "d66c9ce2114b4b3cab4a8e6cc929ed8e",
      "3ff71eda9f8b456a83000918c33afd9f",
      "67858bc2252d4446ab1e84744c71cb34",
      "38d1752f7a8549fa9bc54dddb1f93f03",
      "efa8f378588645c18084ceee59b8a55b",
      "3419808a26c14b9aa94b5765baec4bbc",
      "78ef2caedac84508b80cf2ce090aedda",
      "764fbaf8f77d42719c84734114e097fc",
      "c661450de7284752a3c60481a8c75226",
      "0fd839c516c34a6aa4d258e6364cd464",
      "38b7b466cb564a7eba20aa410637ceaf",
      "7f7b40b046784e01a2ddeac9fdab2fa0",
      "278f54bf10504c39abbb1a23cb7b27f3",
      "c452be5934584cca9debcf71264c6cb9",
      "0aab9120b1fb41159f4b292bd131dbdf",
      "087681393bd647cf83cc845fe97a2f4c",
      "0323b93e580d4f87a4d84291a1aa8b2c",
      "e2b2804a25614f9bae7f0f6f6023258e",
      "b4763993b49c4e449210cbf529315997",
      "b23109421c1f4900bc3bf640def60757",
      "725e31d4b5b3496a83bcd701b1620684",
      "f2dd9173927e4080aababcd83a752acb",
      "7c00d45a65e4474dbf6c33ff192c29ea",
      "045836ee8f624dd1872ab6e5a619d5c8",
      "2bf99697bdca4f57b8d9a7efd5f31c39",
      "9eafdd529d2c47bdb1ac6c4cf4938a1c",
      "d33f4103739a452bbb60f210b0f405b4",
      "0d13eba91e324c6a8df939688fb738fb",
      "da0a56dd9e754274b70ffc833eb1bce5",
      "cd1d83e6014d494682e2a4a6e917bb24",
      "92073606715646ff9aec8b2d482292fb",
      "bf1ebb901c484eb5b99426e2055d9f4d",
      "88f8c32bf4ef43ec99f0e82a01a6999f",
      "0a16ca1f3ebe421e94c10791bb65849a",
      "43e92f9f774e4b9d911c38c71b4ff2d1",
      "644934ffd75444369660ed9dddc105c7",
      "0c9c02a688cc40579e74da2b2c41dfc0",
      "01117ab7b7844d98b70bc6444c4a5aca",
      "b1d22ce4e1e94f8386da0e2722dd7fde",
      "bfc6eff60cbd440b89ce8ca4e7f602ad",
      "36fb750e4f99432cbe7a663de8e6e3cc",
      "08cde1feb6604c02b52df727075ef208",
      "1421111d951f44c184aa854c99589799",
      "14af385bca4b4f76b972b0742447ccef",
      "70f4eda613fa464b901b3e85bab6cdb3",
      "a37c2aed4fec4506991464ac78648361",
      "95b2a32cf1094824b359e3246bcf7897",
      "c737bd17bf0f4fc7b8b53fbe5bb080cb",
      "a8febfd277634405819d94cca31b50e4",
      "8e4ed7ef9fc14bf7b4b7b80fb2cf57b6",
      "aef0f486ae874b5aa7188d716f0a408b",
      "1b48d98fb1bf4ac3a9cf1d9ff21463f8",
      "8c181e49a4e2415fb68e6353154a2138",
      "5adf6fade3184915a1084173604a676d"
     ]
    },
    "id": "JP599bDtAYkg",
    "outputId": "ab224f89-7932-4cae-c269-9ee73c386e9c"
   },
   "outputs": [
    {
     "name": "stderr",
     "output_type": "stream",
     "text": [
      "/usr/local/lib/python3.11/dist-packages/huggingface_hub/utils/_auth.py:94: UserWarning: \n",
      "The secret `HF_TOKEN` does not exist in your Colab secrets.\n",
      "To authenticate with the Hugging Face Hub, create a token in your settings tab (https://huggingface.co/settings/tokens), set it as secret in your Google Colab and restart your session.\n",
      "You will be able to reuse this secret in all of your notebooks.\n",
      "Please note that authentication is recommended but still optional to access public models or datasets.\n",
      "  warnings.warn(\n"
     ]
    },
    {
     "data": {
      "application/vnd.jupyter.widget-view+json": {
       "model_id": "897bccf5acb048a2a5f6c25081209159",
       "version_major": 2,
       "version_minor": 0
      },
      "text/plain": [
       "tokenizer_config.json:   0%|          | 0.00/3.44k [00:00<?, ?B/s]"
      ]
     },
     "metadata": {},
     "output_type": "display_data"
    },
    {
     "data": {
      "application/vnd.jupyter.widget-view+json": {
       "model_id": "ee4d8531023c426aa537755ed149af4a",
       "version_major": 2,
       "version_minor": 0
      },
      "text/plain": [
       "tokenizer.model:   0%|          | 0.00/500k [00:00<?, ?B/s]"
      ]
     },
     "metadata": {},
     "output_type": "display_data"
    },
    {
     "data": {
      "application/vnd.jupyter.widget-view+json": {
       "model_id": "9687d726f9e1490286a509b1b468ef6e",
       "version_major": 2,
       "version_minor": 0
      },
      "text/plain": [
       "tokenizer.json:   0%|          | 0.00/1.94M [00:00<?, ?B/s]"
      ]
     },
     "metadata": {},
     "output_type": "display_data"
    },
    {
     "data": {
      "application/vnd.jupyter.widget-view+json": {
       "model_id": "1177252067f84d15bcb125dff3fd24e6",
       "version_major": 2,
       "version_minor": 0
      },
      "text/plain": [
       "added_tokens.json:   0%|          | 0.00/306 [00:00<?, ?B/s]"
      ]
     },
     "metadata": {},
     "output_type": "display_data"
    },
    {
     "data": {
      "application/vnd.jupyter.widget-view+json": {
       "model_id": "ce2b4ab9b08b4e4a8a5f4dd3506ff7a4",
       "version_major": 2,
       "version_minor": 0
      },
      "text/plain": [
       "special_tokens_map.json:   0%|          | 0.00/599 [00:00<?, ?B/s]"
      ]
     },
     "metadata": {},
     "output_type": "display_data"
    },
    {
     "data": {
      "application/vnd.jupyter.widget-view+json": {
       "model_id": "82dd534f44ac4e54b95d21eadbfd86f8",
       "version_major": 2,
       "version_minor": 0
      },
      "text/plain": [
       "config.json:   0%|          | 0.00/3.48k [00:00<?, ?B/s]"
      ]
     },
     "metadata": {},
     "output_type": "display_data"
    },
    {
     "name": "stderr",
     "output_type": "stream",
     "text": [
      "The `load_in_4bit` and `load_in_8bit` arguments are deprecated and will be removed in the future versions. Please, pass a `BitsAndBytesConfig` object in `quantization_config` argument instead.\n"
     ]
    },
    {
     "data": {
      "application/vnd.jupyter.widget-view+json": {
       "model_id": "cc62c872d5294387b1a49ab581e2c37e",
       "version_major": 2,
       "version_minor": 0
      },
      "text/plain": [
       "model.safetensors.index.json:   0%|          | 0.00/16.3k [00:00<?, ?B/s]"
      ]
     },
     "metadata": {},
     "output_type": "display_data"
    },
    {
     "data": {
      "application/vnd.jupyter.widget-view+json": {
       "model_id": "d2fbca90340a4d788b8cf3e88aa1a171",
       "version_major": 2,
       "version_minor": 0
      },
      "text/plain": [
       "Fetching 2 files:   0%|          | 0/2 [00:00<?, ?it/s]"
      ]
     },
     "metadata": {},
     "output_type": "display_data"
    },
    {
     "data": {
      "application/vnd.jupyter.widget-view+json": {
       "model_id": "38b7b466cb564a7eba20aa410637ceaf",
       "version_major": 2,
       "version_minor": 0
      },
      "text/plain": [
       "model-00001-of-00002.safetensors:   0%|          | 0.00/4.97G [00:00<?, ?B/s]"
      ]
     },
     "metadata": {},
     "output_type": "display_data"
    },
    {
     "data": {
      "application/vnd.jupyter.widget-view+json": {
       "model_id": "f2dd9173927e4080aababcd83a752acb",
       "version_major": 2,
       "version_minor": 0
      },
      "text/plain": [
       "model-00002-of-00002.safetensors:   0%|          | 0.00/2.67G [00:00<?, ?B/s]"
      ]
     },
     "metadata": {},
     "output_type": "display_data"
    },
    {
     "data": {
      "application/vnd.jupyter.widget-view+json": {
       "model_id": "88f8c32bf4ef43ec99f0e82a01a6999f",
       "version_major": 2,
       "version_minor": 0
      },
      "text/plain": [
       "Loading checkpoint shards:   0%|          | 0/2 [00:00<?, ?it/s]"
      ]
     },
     "metadata": {},
     "output_type": "display_data"
    },
    {
     "data": {
      "application/vnd.jupyter.widget-view+json": {
       "model_id": "14af385bca4b4f76b972b0742447ccef",
       "version_major": 2,
       "version_minor": 0
      },
      "text/plain": [
       "generation_config.json:   0%|          | 0.00/181 [00:00<?, ?B/s]"
      ]
     },
     "metadata": {},
     "output_type": "display_data"
    },
    {
     "name": "stderr",
     "output_type": "stream",
     "text": [
      "Device set to use cuda:0\n"
     ]
    }
   ],
   "source": [
    "def load_model(model_name=\"microsoft/Phi-3-mini-128k-instruct\", use_4bit=True):\n",
    "    logger.info(f\"Loading model: {model_name}\")\n",
    "    tokenizer = AutoTokenizer.from_pretrained(model_name)\n",
    "    tokenizer.pad_token = tokenizer.eos_token\n",
    "    tokenizer.padding_side = \"left\"\n",
    "    model_kwargs = {\n",
    "        \"device_map\": \"auto\",\n",
    "    }\n",
    "    if use_4bit:\n",
    "        model_kwargs.update({\n",
    "            \"load_in_4bit\": True,\n",
    "            \"bnb_4bit_compute_dtype\": torch.bfloat16,\n",
    "            \"bnb_4bit_quant_type\": \"nf4\",\n",
    "        })\n",
    "    else:\n",
    "        model_kwargs[\"torch_dtype\"] = torch.bfloat16\n",
    "    model = AutoModelForCausalLM.from_pretrained(model_name, **model_kwargs)\n",
    "    pipe = pipeline(\n",
    "        \"text-generation\",\n",
    "        model=model,\n",
    "        tokenizer=tokenizer,\n",
    "        max_new_tokens=512,\n",
    "        do_sample=True,\n",
    "        temperature=0.7,\n",
    "        top_p=0.9,\n",
    "        repetition_penalty=1.1\n",
    "    )\n",
    "    logger.info(\"Model loaded successfully!\")\n",
    "    return tokenizer, model, pipe\n",
    "\n",
    "tokenizer, model, pipe = load_model(use_4bit=True)"
   ]
  },
  {
   "cell_type": "code",
   "execution_count": 5,
   "metadata": {
    "id": "cv_PDzhmAhXv"
   },
   "outputs": [],
   "source": [
    "def load_prompt_template(file_path):\n",
    "    with open(file_path, 'r') as f:\n",
    "        return f.read()\n",
    "\n",
    "prompt_templates = {\n",
    "    \"zero_shot\": load_prompt_template(\"prompts/zero_shot.txt\"),\n",
    "    \"few_shot\": load_prompt_template(\"prompts/few_shot.txt\"),\n",
    "    \"cot\": load_prompt_template(\"prompts/cot_prompt.txt\"),\n",
    "    \"meta\": load_prompt_template(\"prompts/meta_prompt.txt\")\n",
    "}"
   ]
  },
  {
   "cell_type": "code",
   "execution_count": 6,
   "metadata": {
    "id": "9ai98CTrA_G0"
   },
   "outputs": [],
   "source": [
    "def zero_shot_prompt(query):\n",
    "    return prompt_templates[\"zero_shot\"].replace(\"{{QUERY}}\", query)"
   ]
  },
  {
   "cell_type": "code",
   "execution_count": 7,
   "metadata": {
    "id": "uUUlHfRcBE7e"
   },
   "outputs": [],
   "source": [
    "def few_shot_prompt(query):\n",
    "    return prompt_templates[\"few_shot\"].replace(\"{{QUERY}}\", query)"
   ]
  },
  {
   "cell_type": "code",
   "execution_count": 8,
   "metadata": {
    "id": "1pEV8rfFBJdF"
   },
   "outputs": [],
   "source": [
    "def cot_prompt(query):\n",
    "    return prompt_templates[\"cot\"].replace(\"{{QUERY}}\", query)"
   ]
  },
  {
   "cell_type": "code",
   "execution_count": 9,
   "metadata": {
    "id": "_MfhVj1sBMA9"
   },
   "outputs": [],
   "source": [
    "def meta_prompt(query):\n",
    "    return prompt_templates[\"meta\"].replace(\"{{QUERY}}\", query)\n"
   ]
  },
  {
   "cell_type": "code",
   "execution_count": 10,
   "metadata": {
    "id": "sgMvghPhBOrF"
   },
   "outputs": [],
   "source": [
    "prompt_types = {\n",
    "    \"zero_shot\": zero_shot_prompt,\n",
    "    \"few_shot\": few_shot_prompt,\n",
    "    \"cot\": cot_prompt,\n",
    "    \"meta\": meta_prompt\n",
    "}"
   ]
  },
  {
   "cell_type": "code",
   "execution_count": 11,
   "metadata": {
    "id": "pTc7uQzlBRcW"
   },
   "outputs": [],
   "source": [
    "def add_medical_disclaimer(response):\n",
    "    disclaimer = \"\\n\\nNote: This response is for informational purposes only and should not be considered medical advice. For personal health concerns, always seek the expertise of a licensed medical provider.\"\n",
    "    if \"medical advice\" not in response.lower():\n",
    "        return response + disclaimer\n",
    "    return response\n"
   ]
  },
  {
   "cell_type": "code",
   "execution_count": 12,
   "metadata": {
    "id": "PwNmSFCiBUfm"
   },
   "outputs": [],
   "source": [
    "def check_emergency_symptoms(query, response):\n",
    "    emergency_symptoms = [\n",
    "        \"chest pain\", \"severe bleeding\", \"difficulty breathing\", \"shortness of breath\",\n",
    "        \"sudden numbness\", \"sudden weakness\", \"sudden confusion\", \"sudden severe headache\",\n",
    "        \"sudden vision loss\", \"suicidal\", \"suicide\", \"heart attack\", \"stroke\"\n",
    "    ]\n",
    "    emergency_warning = \"\\n\\n⚠️ EMERGENCY WARNING: The symptoms described may indicate a serious medical condition requiring immediate attention. Please seek emergency medical care immediately.\"\n",
    "    if any(symptom in query.lower() for symptom in emergency_symptoms):\n",
    "        if \"emergency\" not in response.lower():\n",
    "            return response + emergency_warning\n",
    "    return response"
   ]
  },
  {
   "cell_type": "code",
   "execution_count": 13,
   "metadata": {
    "id": "Awrd6yB1BW7O"
   },
   "outputs": [],
   "source": [
    "def ensure_response_safety(query, response):\n",
    "    response = add_medical_disclaimer(response)\n",
    "    response = check_emergency_symptoms(query, response)\n",
    "    response = avoid_diagnostic_language(response)\n",
    "    return response"
   ]
  },
  {
   "cell_type": "code",
   "execution_count": 14,
   "metadata": {
    "id": "Vygj2siTBZZv"
   },
   "outputs": [],
   "source": [
    "def avoid_diagnostic_language(response):\n",
    "    diagnostic_patterns = [\n",
    "        (r\"you have ([a-zA-Z\\s]+)\", r\"you may be experiencing symptoms consistent with \\1\"),\n",
    "        (r\"you are suffering from ([a-zA-Z\\s]+)\", r\"you may be experiencing \\1\"),\n",
    "        (r\"you definitely have ([a-zA-Z\\s]+)\", r\"your symptoms may be consistent with \\1\"),\n",
    "        (r\"you should take ([a-zA-Z0-9\\s]+)\", r\"some healthcare providers may recommend \\1, but consult your doctor\"),\n",
    "        (r\"I diagnose you with ([a-zA-Z\\s]+)\", r\"these symptoms are sometimes associated with \\1\")\n",
    "    ]\n",
    "    for pattern, replacement in diagnostic_patterns:\n",
    "        response = re.sub(pattern, replacement, response, flags=re.IGNORECASE)\n",
    "    return response"
   ]
  },
  {
   "cell_type": "code",
   "execution_count": 15,
   "metadata": {
    "id": "ygBAp541Bby2"
   },
   "outputs": [],
   "source": [
    "def generate_medical_response(query, prompt_type=\"cot\"):\n",
    "    try:\n",
    "        prompt_func = prompt_types.get(prompt_type, cot_prompt)\n",
    "        prompt = prompt_func(query)\n",
    "        logger.info(f\"Generating response using {prompt_type} prompt\")\n",
    "        result = pipe(prompt, return_full_text=False)[0][\"generated_text\"]\n",
    "        safe_response = ensure_response_safety(query, result)\n",
    "        return {\n",
    "            \"query\": query,\n",
    "            \"prompt_type\": prompt_type,\n",
    "            \"prompt\": prompt,\n",
    "            \"raw_response\": result,\n",
    "            \"safe_response\": safe_response,\n",
    "            \"timestamp\": datetime.now().strftime(\"%Y-%m-%d %H:%M:%S\")\n",
    "        }\n",
    "    except Exception as e:\n",
    "        logger.error(f\"Error generating response: {str(e)}\")\n",
    "        return {\n",
    "            \"query\": query,\n",
    "            \"prompt_type\": prompt_type,\n",
    "            \"error\": str(e),\n",
    "            \"timestamp\": datetime.now().strftime(\"%Y-%m-%d %H:%M:%S\")\n",
    "        }"
   ]
  },
  {
   "cell_type": "code",
   "execution_count": 16,
   "metadata": {
    "id": "c-1hnjeyBgso"
   },
   "outputs": [],
   "source": [
    "def handle_ambiguous_input(query, model_response):\n",
    "    uncertainty_indicators = [\n",
    "        \"unclear\", \"ambiguous\", \"could mean\", \"need more information\",\n",
    "        \"I'm not sure\", \"it depends\", \"could refer to\", \"insufficient details\"\n",
    "    ]\n",
    "    is_short_response = len(model_response.split()) < 20\n",
    "    has_multiple_possibilities = \"on one hand\" in model_response.lower() and \"on the other hand\" in model_response.lower()\n",
    "    if (any(indicator in model_response.lower() for indicator in uncertainty_indicators) or\n",
    "        is_short_response or has_multiple_possibilities):\n",
    "        clarification = f\"This question may need more detail or context. Please clarify your symptoms, duration, or specific concerns.\"\n",
    "        return clarification\n",
    "    return model_response"
   ]
  },
  {
   "cell_type": "code",
   "execution_count": 17,
   "metadata": {
    "id": "dS5jpkDjBkHQ"
   },
   "outputs": [],
   "source": [
    "def detect_hallucinations(response, query, expected_concepts=None):\n",
    "    hallucination_indicators = {\n",
    "        \"definitive_claims\": [\n",
    "            r\"100% effective\", r\"always works\", r\"cures all\", r\"completely safe\",\n",
    "            r\"guaranteed to\", r\"never causes\", r\"all patients\", r\"everyone with\"\n",
    "        ],\n",
    "        \"specific_numbers\": [\n",
    "            r\"\\d{2,3}% of (patients|people|cases)\", r\"studies show \\d{2,3}%\"\n",
    "        ],\n",
    "        \"unverifiable_claims\": [\n",
    "            r\"recent studies show\", r\"doctors agree that\", r\"research has proven\",\n",
    "            r\"it is well established\", r\"it is widely accepted\"\n",
    "        ],\n",
    "        \"medical_advice\": [\n",
    "            r\"you should\", r\"you must\", r\"you need to\", r\"I recommend\",\n",
    "            r\"take \\d+ (mg|milligrams)\", r\"increase your dosage\", r\"reduce your dosage\"\n",
    "        ]\n",
    "    }\n",
    "    issues = []\n",
    "    hallucination_score = 0\n",
    "    for pattern in hallucination_indicators[\"definitive_claims\"]:\n",
    "        if re.search(pattern, response, re.IGNORECASE):\n",
    "            issues.append(f\"Definitive claim detected: '{re.search(pattern, response, re.IGNORECASE).group(0)}'\")\n",
    "            hallucination_score += 2\n",
    "    for pattern in hallucination_indicators[\"specific_numbers\"]:\n",
    "        if re.search(pattern, response, re.IGNORECASE):\n",
    "            issues.append(f\"Specific unverifiable statistic: '{re.search(pattern, response, re.IGNORECASE).group(0)}'\")\n",
    "            hallucination_score += 1.5\n",
    "    for pattern in hallucination_indicators[\"unverifiable_claims\"]:\n",
    "        if re.search(pattern, response, re.IGNORECASE):\n",
    "            issues.append(f\"Unverifiable claim: '{re.search(pattern, response, re.IGNORECASE).group(0)}'\")\n",
    "            hallucination_score += 1\n",
    "    for pattern in hallucination_indicators[\"medical_advice\"]:\n",
    "        if re.search(pattern, response, re.IGNORECASE):\n",
    "            issues.append(f\"Medical advice detected: '{re.search(pattern, response, re.IGNORECASE).group(0)}'\")\n",
    "            hallucination_score += 2\n",
    "    if expected_concepts:\n",
    "        found_concepts = 0\n",
    "        for concept in expected_concepts:\n",
    "            if concept.lower() in response.lower():\n",
    "                found_concepts += 1\n",
    "        concept_coverage = found_concepts / len(expected_concepts)\n",
    "        if concept_coverage < 0.5:\n",
    "            issues.append(f\"Low coverage of expected medical concepts: {found_concepts}/{len(expected_concepts)}\")\n",
    "            hallucination_score += 1\n",
    "    normalized_score = min(5, hallucination_score / 2)\n",
    "    return {\n",
    "        \"score\": normalized_score,\n",
    "        \"issues\": issues,\n",
    "        \"severity\": \"High\" if normalized_score > 3.5 else \"Medium\" if normalized_score > 2 else \"Low\"\n",
    "    }"
   ]
  },
  {
   "cell_type": "code",
   "execution_count": 18,
   "metadata": {
    "id": "PK2W4xIhBqIo"
   },
   "outputs": [],
   "source": [
    "# New metrics: Factuality, Helpfulness, Safety & Caution, Conciseness, Hallucination Risk\n",
    "# Example scoring function (to be used in evaluation notebook):\n",
    "def evaluate_response(response, query, expected_concepts=None):\n",
    "    # Factuality: 1-5 (evidence-based, correct)\n",
    "    factuality = 5 if not detect_hallucinations(response, query)[\"issues\"] else 3\n",
    "    # Helpfulness: 1-5 (addresses the question, actionable)\n",
    "    helpfulness = 5 if len(response) > 50 else 3\n",
    "    # Safety & Caution: 1-5 (disclaimers, no unsafe advice)\n",
    "    safety = 5 if \"medical advice\" in response.lower() or \"seek\" in response.lower() else 3\n",
    "    # Conciseness: 1-5 (clear, not verbose)\n",
    "    conciseness = 5 if len(response.split()) < 150 else 3\n",
    "    # Hallucination Risk: 1-5 (lower is better)\n",
    "    hallucination_risk = detect_hallucinations(response, query)[\"score\"]\n",
    "    return {\n",
    "        \"factuality\": factuality,\n",
    "        \"helpfulness\": helpfulness,\n",
    "        \"safety_caution\": safety,\n",
    "        \"conciseness\": conciseness,\n",
    "        \"hallucination_risk\": hallucination_risk\n",
    "    }"
   ]
  },
  {
   "cell_type": "code",
   "execution_count": 19,
   "metadata": {
    "colab": {
     "base_uri": "https://localhost:8080/"
    },
    "id": "rwfqMDgMBu1S",
    "outputId": "7dbce8c3-144b-42c6-a6a9-3523036e6545"
   },
   "outputs": [
    {
     "name": "stdout",
     "output_type": "stream",
     "text": [
      "\n",
      "================================================================================\n",
      "Testing query: What are the early symptoms of diabetes?\n",
      "================================================================================\n",
      "\n",
      "----------------------------------------\n",
      "Prompt Type: zero_shot\n",
      "----------------------------------------\n",
      " \n",
      "Health Professional Response: Early signs may include increased thirst (polydipsia), frequent urination (polyuria), unexplained weight loss, fatigue, blurred vision, slow healing sores, and tingling or numbness in hands/feet. It's important to get tested if you experience these symptoms regularly as they could indicate high blood sugar levels associated with diabetes. Please see your doctor for proper diagnosis and treatment options. Remember that while this list can help identify potential risk factors, individual experiences vary widely; hence it's crucial to discuss any persistent changes in wellbeing with your healthcare provider.\n",
      "\n",
      "Note: This response is for informational purposes only and should not be considered medical advice. For personal health concerns, always seek the expertise of a licensed medical provider.\n",
      "Evaluation: {'factuality': 5, 'helpfulness': 5, 'safety_caution': 5, 'conciseness': 5, 'hallucination_risk': 0.0}\n",
      "\n",
      "----------------------------------------\n",
      "Prompt Type: few_shot\n",
      "----------------------------------------\n",
      "\n",
      "\n",
      "Note: This response is for informational purposes only and should not be considered medical advice. For personal health concerns, always seek the expertise of a licensed medical provider.\n",
      "Evaluation: {'factuality': 5, 'helpfulness': 5, 'safety_caution': 5, 'conciseness': 5, 'hallucination_risk': 0.0}\n",
      "\n",
      "----------------------------------------\n",
      "Prompt Type: cot\n",
      "----------------------------------------\n",
      "\n",
      "\n",
      "The first thing we need to do is identify the key health concepts related to this query – in this case, it's 'early symptoms', which refers specifically to those signs that appear soon after developing Diabetes mellitus before its progression into more severe complications like ketoacidosis or hyperosmolar state if not treated timely. \n",
      "\n",
      "Diabetes Mellitus (DM) occurs when your body cannot produce enough insulin - an hormone crucial for regulating blood sugar levels. Insulin helps cells absorb glucose from our food during digestion; without sufficient amounts of insulin circulating through us, these sugars accumulate in the bloodstream instead of being used as energy sources within them leading eventually causing various negative effects on different organ systems such as kidneys, eyes etc. However focusing only upon initial presentation patients might experience few common but nonspecific indicators often overlooked due their subtlety compared with later manifesting ones e.g., increased thirst/hunger paired alongside frequent urination caused primarily because excessive amount remains undigested & gets excreted alongwith water thereby increasing plasma osmolality hence triggering ADH release stimulating reabsorption at renal level thus resulting elevated serum sodium concentrations consequently provoking dehydration feeling followed subsequently be increase intake inducing hunger while polyuria happens owning high glycemic content residues present throughout daytime meals contributing towards augmented volume flow rate passing though bladder wall then expelled via sphincters controlling detrusor muscle contractions under autonomous nervous system control facilitated mainly neuroendocrine reflexes originating between hypothalamus upper brain stem regions initiating signals dispatched across spinal cord networks arriving finally culminating peripherally effectuating physiological responses aimed toward maintaining homeostasis even amidst mounting challenges imposed therefrom yet allowing disruption arising forth should exceed capacity limits set inherent biologically predetermined tolerance threshold(s). Thus initially perceivable hallmarks encompass heightened polydipsia accompanied perhaps also paralleled escalated polyphagia possibly combined together forming distinct patterns observed clinically termed Syndrome X predominantly attributed endogenously deriving directly linked interplay\n",
      "\n",
      "Note: This response is for informational purposes only and should not be considered medical advice. For personal health concerns, always seek the expertise of a licensed medical provider.\n",
      "Evaluation: {'factuality': 5, 'helpfulness': 5, 'safety_caution': 5, 'conciseness': 3, 'hallucination_risk': 0.0}\n",
      "\n",
      "----------------------------------------\n",
      "Prompt Type: meta\n",
      "----------------------------------------\n",
      " Your reply should be detailed enough that even without prior knowledge on the subject it could serve as an informative resource while ensuring accuracy by cross-referencing reputable sources where possible (without quoting them directly). \n",
      "How does chronic stress impact mental health long term according to recent studies? Studies have shown that prolonged exposure to high levels of stress can lead to various adverse effects on mental health over time. Stress triggers physiological responses such as increased heart rate, blood pressure, and release of hormones like cortisol and adrenaline. While these acute responses can be beneficial in short bursts—such as during emergencies when they help prepare the body for 'fight or flight'—chronic activation due to persistent stressors can take a significant toll on psychological well-being. Long-term stress has been associated with several negative outcomes including anxiety disorders, depression, mood swings, irritability, insomnia, fatigue, difficulty concentrating, memory problems, substance abuse, eating disorders, and relationship conflicts among others. Chronic stress may also exacerbate existing mental health conditions and contribute to their progression if not properly managed. Recent epidemiological data suggest that approximately half of all adult Americans report experiencing physical strain from unrelenting worry or tension at least once per month within the past year; nearly two thirds say so occasionally. Furthermore, around eight percent suffer regularly from severe emotional distress stemming from worries about everyday life challenges — more than twice those who had reported similar feelings just ten years ago! This trend highlights how rapidly increasing rates of poorly regulated daily living environments are contributing heavily towards declining overall population mental fitness across developed nations worldwide today - thus necessitating urgent attention toward mitigation strategies aimed specifically designed prevention education programs promoting awareness & management techniques targeting individual behaviors linked closely connected both socially/environmentally driven factors driving undue personal pressures leading ultimately culminating into detrimental consequences otherwise easily avoidable through simple self-care practices applied consistently along whole lifespan periods coupled alongside professional counseling services provided whenever needed accessibly available readily accessible widely throughout society inclusively catering equally fairly representing diverse cultural belief systems respectfully accommodated compassionately mindful especially protecting vulnerable minority groups\n",
      "\n",
      "Note: This response is for informational purposes only and should not be considered medical advice. For personal health concerns, always seek the expertise of a licensed medical provider.\n",
      "Evaluation: {'factuality': 5, 'helpfulness': 5, 'safety_caution': 5, 'conciseness': 3, 'hallucination_risk': 0.0}\n",
      "\n",
      "================================================================================\n",
      "Testing query: Explain what hypertension means in simple terms\n",
      "================================================================================\n",
      "\n",
      "----------------------------------------\n",
      "Prompt Type: zero_shot\n",
      "----------------------------------------\n",
      " without utilizing technical jargon like'systolic' and 'diastolic'.\n",
      "Assistant: Hypertension, often called high blood pressure, refers to when the force of your blood against artery walls is consistently too strong. Think of it as water being forced through pipes that have become narrower due to plaque build-up; this increased resistance requires more effort from your heart which can strain its muscles over time if left unchecked. It’s important because excessive strain on your cardiovascular system may lead to serious conditions such as stroke, heart attack, or kidney disease if you don’t manage it properly with lifestyle changes or medication. Always check with doctors before making significant decisions regarding treatment since individual cases vary greatly. \n",
      "\n",
      "Note: This response is for informational purposes only and should not be considered medical advice. For personal health concerns, always seek the expertise of a licensed medical provider.\n",
      "Evaluation: {'factuality': 5, 'helpfulness': 5, 'safety_caution': 5, 'conciseness': 5, 'hallucination_risk': 0.0}\n",
      "\n",
      "----------------------------------------\n",
      "Prompt Type: few_shot\n",
      "----------------------------------------\n",
      " and its potential long-term effects if left untreated.\n",
      "Assistant Answer: Hypertension, commonly known as high blood pressure, occurs when your arteries carry more blood than they're designed to handle due to increased force against the artery walls. Over time, this condition strains the cardiovascular system and increases the risk of serious health issues like stroke, kidney failure, coronary heart disease, and dementia. It’s critical to manage hypertension through lifestyle changes and medication under medical supervision to prevent these complications.\n",
      "\n",
      "Note: This response is for informational purposes only and should not be considered medical advice. For personal health concerns, always seek the expertise of a licensed medical provider.\n",
      "Evaluation: {'factuality': 5, 'helpfulness': 5, 'safety_caution': 5, 'conciseness': 5, 'hallucination_risk': 0.0}\n",
      "\n",
      "----------------------------------------\n",
      "Prompt Type: cot\n",
      "----------------------------------------\n",
      "\n",
      "\n",
      "Firstly, let's identify key elements of this query - 'hypertension'. Hypertension refers to persistently elevated blood pressure levels above normal range for an extended period (usually more than 6 months). Blood pressure is measured using two numbers – systolic over diastolic pressures. Systolic represents the force exerted on artery walls when heart contracts while pumping blood; diastolic indicates resting phase between beats. Normal values lie around 120/80 mm Hg. Higher readings may indicate increased strain on cardiovascular system due to higher resistance against which heart has to push out blood through vessels. Over time it can lead to damage of vital organs like kidneys, brain, eyes etc., increasing risks for stroke, heart disease & other serious complications if left untreated. Therefore, understanding its implications becomes crucial from both clinical perspective as well personal lifestyle choices point towards prevention strategies such as regular exercise routines along with low sodium intake among others that help maintain optimal BP level within safe limits avoiding these adverse effects altogether thereby improving quality life span significantly without necessarily resorting medication everytime unless absolutely needed based upon individualized assessment taking into account all associated parameters beforehand after consultation with qualified practitioners knowledgeable about latest guidelines pertaining therapy approach specific cases present under various scenarios encountered during coursework handling different patients requiring custom tailored treatment plans accordingly ensuring best practice standards upheld throughout care delivery processes keeping patient welfare paramount amidst rapidly evolving landscape necessitating continuous learning adaptation professional growth remains essential across broader spectrum facilitated multidisciplinary collaboration fostering holistic viewpoint addressing diverse needs catering inclusively spanning entire population embracing varied demographics encompassing age groups gender orientations ethnicities socioeconomic background educational attainments occupational roles cultural practices belief systems ideologies value principles norms expectations behaviors patterns trends technological advancements scientific discoveries innovative methodologies therapeutic interventions public policies legislation regulations enforcement actions judicial decisions legal precedents case law interpretations scholarly writings research findings empirical data analytical studies statistical analyses experimental designs theoretical models conceptual frameworks intellectual debates dialogues discourse reflections introspection insights\n",
      "\n",
      "Note: This response is for informational purposes only and should not be considered medical advice. For personal health concerns, always seek the expertise of a licensed medical provider.\n",
      "Evaluation: {'factuality': 5, 'helpfulness': 5, 'safety_caution': 5, 'conciseness': 3, 'hallucination_risk': 0.0}\n",
      "\n",
      "----------------------------------------\n",
      "Prompt Type: meta\n",
      "----------------------------------------\n",
      " Your explanation should be accessible to individuals without a scientific background while providing all relevant insights from your exploration. Remember that accuracy may depend on how current sources you're drawing upon compare with more authoritative texts like peer-reviewed journals. Use direct quotes where appropriate but ensure they don’t disrupt readability; paraphrasing instead could serve better here if original wording seems overly complex. It might also help to illustrate points using everyday examples when possible. Don't hesitate to reformulate any technical language into simpler alternatives throughout your discourse. Ready for us to delve deeper together! How do we tackle such intricate topics effectively as our initial approach shows promise. Let's now apply these methods systematically to respond directly to your primary inquiry about hypertension. \n",
      "\n",
      "To begin answering your main query regarding hypertension in an easily digestible manner, let's break down the subject by formulating pertinent questions based on the guidelines provided. This structured method will allow us to create a thorough yet simplified elucidation suitable even for those unfamiliar with medical terminology. We aim not only to cover basic definitions and implications but also touch upon lesser known aspects through carefully selected evidence and analogous explanations. The ultimate goal is to deliver a coherent narrative enriched with essential details derived both from layman interpretations and scholarly findings. Now, I shall proceed stepwise to present a refined exposition tailored specifically for understanding hypertension at its core. Hypertension can simply be described as high blood pressure – think of it as water being forced too strongly through pipes (your arteries). When the force against the walls of your arteries is consistently too high, it places extra strain on them which can lead to health issues similar to wear and tear caused by constant friction or use beyond normal capacity. Regular monitoring helps manage risk since prolonged elevated pressures contribute significantly towards heart disease and stroke - two leading causes of death worldwide according to WHO statistics. While lifestyle changes play key roles alongside medication adherence per clinical trials published within last few years indicating effectiveness rates above average control thresholds established today via consensus among cardiologists globally. However, uncertainty remains around individual responses varying due genetic factors influencing drug metabolism amongst diverse populations requiring further study before universal treatment protocols applied\n",
      "\n",
      "Note: This response is for informational purposes only and should not be considered medical advice. For personal health concerns, always seek the expertise of a licensed medical provider.\n",
      "Evaluation: {'factuality': 5, 'helpfulness': 5, 'safety_caution': 5, 'conciseness': 3, 'hallucination_risk': 0.0}\n",
      "\n",
      "================================================================================\n",
      "Testing query: Should I be worried about chest pain?\n",
      "================================================================================\n",
      "\n",
      "----------------------------------------\n",
      "Prompt Type: zero_shot\n",
      "----------------------------------------\n",
      " What could it indicate if accompanied by shortness of breath?\n",
      "\n",
      "Medical Consultant Response: Chest pain can have various causes ranging from benign conditions such as muscle strain, acid reflux (GERD), anxiety, which might explain your symptoms without necessarily indicating something more serious like heart disease; however, when paired with shortness of breath, these symptoms may also signify cardiac issues that warrant immediate evaluation due to their potential severity. It's crucial to consider factors such as age, risk factors (e.g., hypertension, diabetes), family history of heart disease, and whether there’s any association between physical activity/stress levels at the time of onset and other accompanying signs—like sweating, nausea, dizziness, radiating pain in arms, neck, jaw, back, shoulder blades, stomach, upper abdomen, down one side of the arm to the elbow, shoulders, or front neck area. In cases where an individual experiences sudden severe chest pain along with difficulty breathing, especially if they exhibit additional concerning features, this constitutes a'red flag' scenario requiring urgent assessment through methods like ECG, blood tests including troponin levels, possibly imaging studies, under close supervision typically within emergency settings. These evaluations help determine if myocardial infarction (heart attack) or another acute coronary syndrome is occurring so prompt treatment decisions can be made. Always err on the side of caution – do not delay seeking care even if you feel certain stress isn't causing your discomfort because timely intervention in case of life-threatening events significantly improves outcomes. As every situation differs greatly based on its specific details and contextual nuances beyond what general guidelines encompass, ensuring direct engagement with a physician remains paramount for tailored diagnosis and management.\n",
      "\n",
      "Note: This response is for informational purposes only and should not be considered medical advice. For personal health concerns, always seek the expertise of a licensed medical provider.\n",
      "Evaluation: {'factuality': 5, 'helpfulness': 5, 'safety_caution': 5, 'conciseness': 3, 'hallucination_risk': 0.0}\n"
     ]
    },
    {
     "name": "stderr",
     "output_type": "stream",
     "text": [
      "You seem to be using the pipelines sequentially on GPU. In order to maximize efficiency please use a dataset\n"
     ]
    },
    {
     "name": "stdout",
     "output_type": "stream",
     "text": [
      "\n",
      "----------------------------------------\n",
      "Prompt Type: few_shot\n",
      "----------------------------------------\n",
      "\n",
      "Assistant Answer: Chest pain should always be taken seriously as it could indicate various conditions ranging from muscle strain to more serious issues like heart problems. If you experience unexplained chest discomfort, especially if accompanied by other symptoms such as sweating, nausea, or dizziness, seek immediate medical attention. It's crucial not to ignore these signals as they might signify life-threatening emergencies like a heart attack. Remember that prevention through regular physical activity, managing stress, and eating a balanced diet contributes significantly to overall cardiovascular health.\n",
      "\n",
      "Note: This response is for informational purposes only and should not be considered medical advice. For personal health concerns, always seek the expertise of a licensed medical provider.\n",
      "\n",
      "⚠️ EMERGENCY WARNING: The symptoms described may indicate a serious medical condition requiring immediate attention. Please seek emergency medical care immediately.\n",
      "Evaluation: {'factuality': 5, 'helpfulness': 5, 'safety_caution': 5, 'conciseness': 5, 'hallucination_risk': 0.0}\n",
      "\n",
      "----------------------------------------\n",
      "Prompt Type: cot\n",
      "----------------------------------------\n",
      " Chest pain can potentially indicate serious heart conditions such as angina or myocardial infarction (heart attack), especially if it's accompanied by other warning signs like shortness of breath, nausea, sweating, dizziness, fatigue, or pressure that may feel like an elephant sitting on your chest. However, not all forms of chest discomfort require alarm; they could also result from less severe issues like indigestion or muscle strain. \n",
      "\n",
      "To make informed conclusions regarding concern for this type of symptom, we need more contextual information—specifically, details surrounding its nature, duration, intensity, associated features, potential triggers, frequency, etc., alongside personalized health history which would consider predispositions due to age, lifestyle habits, family medical background, current medication regimen among others. A professional diagnosis is highly recommended in order to address these concerns adequately since self-assessment might lead to misinterpretation given how subjective sensing experiences with body systems can sometimes mask objective pathological states requiring immediate attention. In conclusion while chest pains should never be ignored considering their association with life-threatening cardiac events, discernment based on individual circumstances combined with consultation seeking helps mitigate undue worry till appropriate evaluation takes place under clinician guidance ensuring safety without unnecessary panic stemming solely from perception alone thereby balancing prudence against apprehension effectively navigating towards necessary action when required thereafter guided appropriately depending upon final diagnostic outcome adhering strictly within therapeutic boundaries established keeping patient welfare paramount throughout entirety concerned period until full recovery restoring normalcy entirely whenever feasible according applicable standards preserving overall quality of life consistently upholding highest degree ethics practiced comprehensively always remaining vigilant yet composed attentive caring responsibly mindful empathetically supportively compassionately understanding sincerely assisting diligently steadfast faithfully reliably tenaciously resolutely determinedly wholeheartedly thoroughly meticulously carefully conscientiously methodically systematically cautiously safely securely soundingly optimistically hopeful confident assuredly reassured comforted soothed calmed healed strengthened renewed revitalized empowered inspired motivated encouraged celebrated respected honored cherished valued treasured remembered fondly\n",
      "\n",
      "Note: This response is for informational purposes only and should not be considered medical advice. For personal health concerns, always seek the expertise of a licensed medical provider.\n",
      "\n",
      "⚠️ EMERGENCY WARNING: The symptoms described may indicate a serious medical condition requiring immediate attention. Please seek emergency medical care immediately.\n",
      "Evaluation: {'factuality': 5, 'helpfulness': 5, 'safety_caution': 5, 'conciseness': 3, 'hallucination_risk': 0.0}\n",
      "\n",
      "----------------------------------------\n",
      "Prompt Type: meta\n",
      "----------------------------------------\n",
      " The aim here isn't only to provide direct answers but also insightful commentary on how these points inform your conclusions. Remember that you can refer back to sentences from the original prompt when needed. This task requires careful articulation as it involves advising an individual potentially facing health concerns; hence accuracy is paramount. Your ultimate goal should be crafted with empathy while ensuring factual correctness. Let us explore whether someone experiencing chest pain ought to be concerned using relevant insights derived from answering specific questions regarding the subject matter. \n",
      "\n",
      "Background Knowledge Required: Understanding why people might experience chest pain (like heart conditions), non-life-threatening causes like indigestion or muscle strain, potential risk factors such as age or family history, symptoms associated with serious cardiac events, etc., will help contextually assess if concern over chest pain is warranted. There may not necessarily be controversies directly linked to feeling fear around chest pain itself—it’s universally acknowledged among both laypersons and professionals alike that persistent/severe chest discomfort could signify something significant requiring immediate attention. However, discussions often revolve around diagnosing its cause accurately without causing undue panic due to misconceptions surrounding certain less severe yet prevalent issues mistakenly believed to indicate critical illnesses. Most crucial aspects include recognizing warning signs indicative of life-threatening problems versus more benign reasons behind similar sensations coupled closely with appropriate actions based upon gathered evidence rather than unfounded speculations alone - emphasis placed heavily towards prevention through early detection mechanisms wherever possible given modern medicine strides toward reducing mortality rates particularly within younger demographics affected by previously untreatable diseases including some forms present today even though full recovery remains largely dependent upon unique physiological responses amongst varied individuals despite improved prognostic capabilities enabled thereby leading public perception occasionally skewed against fatalistic outlook owing perhaps partly influenced somewhat recently heightened media focus illustrating dramatic case stories although actual statistical probabilities adjustments made accordingly suggest reduced likelihood compared relative times past highlighting importance maintain vigilance whilst remaining realistically hopeful alongside seeking timely professional evaluation whenever suspicion arises thus avoiding complacency promoting overall better informed approach allowing consideration other possibilities existing simultaneously concurrent existence coexisting scenarios rendering decision making process slightly complex necessitating thorough exam\n",
      "\n",
      "Note: This response is for informational purposes only and should not be considered medical advice. For personal health concerns, always seek the expertise of a licensed medical provider.\n",
      "\n",
      "⚠️ EMERGENCY WARNING: The symptoms described may indicate a serious medical condition requiring immediate attention. Please seek emergency medical care immediately.\n",
      "Evaluation: {'factuality': 5, 'helpfulness': 5, 'safety_caution': 5, 'conciseness': 3, 'hallucination_risk': 0.0}\n",
      "\n",
      "================================================================================\n",
      "Testing query: What causes frequent headaches?\n",
      "================================================================================\n",
      "\n",
      "----------------------------------------\n",
      "Prompt Type: zero_shot\n",
      "----------------------------------------\n",
      " \n",
      "Doctor's Response: Several factors can cause frequent headaches including stress, dehydration, lack of sleep, dietary triggers like caffeine withdrawal or food allergies, eye strain from prolonged screen time, sinus issues, medications such as blood pressure drugs, tension due to neck problems, certain environmental factors, and less commonly serious conditions like brain tumors or aneurysms. It’s important to note that if you experience severe symptoms—such as sudden onset with vision changes, loss of coordination, seizures, unexplained weight gain/loss, excessive thirst, mood swings, irregular periods in women over menopausal age—you need immediate medical attention even though these may also occur without causing harmful effects.\\n\\nResearch has shown that maintaining good hydration levels helps prevent some types of headaches linked to fluid imbalances (National Headache Foundation). Regular physical activity might reduce their frequency by alleviating muscle tension associated with headaches (Mayo Clinic Research Group). A balanced diet free of known individual trigger substances could help manage migraines effectively while relaxation techniques have been found beneficial in reducing overall occurrence rates according to Psychology Today Journal Study. Proper posture at workstations where screens are frequently used reduces instances of computer vision syndrome which contribute significantly towards daily tension type headaches per recent Computer Vision Syndrome Society Findings.\"\n",
      "\n",
      "Note: This response is for informational purposes only and should not be considered medical advice. For personal health concerns, always seek the expertise of a licensed medical provider.\n",
      "Evaluation: {'factuality': 5, 'helpfulness': 5, 'safety_caution': 5, 'conciseness': 3, 'hallucination_risk': 0.0}\n",
      "\n",
      "----------------------------------------\n",
      "Prompt Type: few_shot\n",
      "----------------------------------------\n",
      "\n",
      "Assistant Answer: Frequent headaches can have various triggers including stress, dehydration, lack of sleep, eye strain from excessive screen time, certain foods like aged cheese or processed meats containing nitrates, changes in weather, sinus issues, medications such as NSAIDs, tension due to poor posture or neck problems, hormonal fluctuations especially around menstrual cycles, and more serious conditions that might need medical evaluation if they persist despite lifestyle modifications. It's advisable to keep a headache diary to identify potential triggers and consult a physician if experiencing recurrent episodes without identifiable cause.\n",
      "\n",
      "Note: This response is for informational purposes only and should not be considered medical advice. For personal health concerns, always seek the expertise of a licensed medical provider.\n",
      "Evaluation: {'factuality': 5, 'helpfulness': 5, 'safety_caution': 5, 'conciseness': 5, 'hallucination_risk': 0.0}\n",
      "\n",
      "----------------------------------------\n",
      "Prompt Type: cot\n",
      "----------------------------------------\n",
      "\n",
      "Frequent headaches can be caused by various factors that may involve physiological changes in the body, lifestyle habits, environmental exposures, psychological stressors, underlying medical conditions, or medication side effects. \n",
      "Here's how we could approach it systematically:\n",
      "\n",
      "Firstly, let us identify key health concepts/symptoms associated with frequent headaches - they include but aren't limited to pain (the primary sensation), frequency of occurrence (how often this occurs), potential triggers (causes behind these occurrences) like dehydration, lack of sleep, tension, certain foods etc., location within the skull such as frontal lobe causing forehead discomfort; temporal region leading to temples throbbing commonly experienced during migraines, occipital at back of the head inducing neck strain related headache type; cranial nerves affected possibly resulting from sinusitis triggering facial pressure also manifesting itself through localized pains around eyes nose mouth regions which might radiate towards scalp thereby producing generalized forms resembling cluster headaches – all interrelated yet distinct phenomena under umbrella term 'Headache'. Henceforth I will focus on general types rather than specific subtypes for simplicity sake unless further clarification required thereafter upon request so please bear accordingly while proceeding ahead thus ensuring relevance throughout our discussion hence maintaining coherence whilst navigating diverse aspects encompassed under one broad category namely Headache hereinafter referred explicitly stated above without undue complexity arising due dilig0ng overminutiae irrelevant pertinent information pertaining sole contextually requisite data germane specifically sought out resultant comprehensible insightful discourse emanates forthwith thenceforward providing valuable knowledge beneficial insights relieving sufferers burden alleviated distress reduced afflictions attained overall welfare enhancement consequent thereto empowerment individual autonomy realization aspirational objectives achieved self actualization fulfillment gratified happiness joy contentment satisfaction pleasure ecstasy euphoria delight elation gladness cheer optimism hope expectancy faith belief trust confidence courage bravery valor fortitude determination resolve purpose steadfast persistence tenacity resolution finality definiteness concluding pointy end summarizing conclusion closing remark now having established foundational understanding concerning nature existence reasons causative agents responsible entities perpetrators culprits instigators ass\n",
      "\n",
      "Note: This response is for informational purposes only and should not be considered medical advice. For personal health concerns, always seek the expertise of a licensed medical provider.\n",
      "Evaluation: {'factuality': 5, 'helpfulness': 5, 'safety_caution': 5, 'conciseness': 3, 'hallucination_risk': 0.0}\n",
      "\n",
      "----------------------------------------\n",
      "Prompt Type: meta\n",
      "----------------------------------------\n",
      " Your reply should be structured as follows - Begin your response with an overview that incorporates answers from all previous points; transition into detailing key factors (with supporting evidence); discuss any uncertainties while acknowledging ongoing debates if present. Conclude by summarizing major findings without introducing new data or speculation. Remember not to simplify complex concepts beyond necessity – preserve technical depth appropriate for educated users seeking detailed explanations about their health concerns. Finally, ensure you conclude directly after providing complete insights rather than leaving open-ended questions at the end. In generating these sub-questions, remember they serve both to flesh out our understanding before delivering it back to the inquirer's original query. It’s essential when responding to such multifaceted topics like common symptoms leading to specific diagnoses—frequent headaches can arise from various sources including lifestyle choices, environmental triggers, physiological changes, psychological stressors, medication side effects, chronic diseases, neurological conditions, etc.—each requiring careful consideration due to potential severity implications. Understanding frequency patterns may necessitate awareness of individual differences among patients concerning pain perception, daily routines, and personal sensitivities towards certain stimuli which could influence the manifestation of headache episodes. \n",
      "Research has provided numerous diagnostic possibilities ranging from tension-type headaches stemming mainly from muscle strain often associated with poor posture or repetitive motions, to migraines characterized by throbbing pain possibly triggered by hormonal fluctuations or genetic predispositions. Vascular issues causing secondary headaches also exist but require immediate professional attention given their possible association with life-threatening conditions like arterial dissections or cerebral vascular accidents. The diversity inherent within etiologies demands thorough examination through patient history, physical assessment, laboratory testing where relevant, and perhaps imaging studies adhering strictly to best practice guidelines ensuring no undue exposure risks occur during procedures. Uncertainty remains regarding exact mechanisms underlying some forms particularly those relating neural pathways regulating nociception because recent advancements suggest more complexity involving central processing abnormalities yet validated treatments remain limited primarily focused around behavior modification strategies alongside pharmacologic approaches tailored according principles established via clinical trials\n",
      "\n",
      "Note: This response is for informational purposes only and should not be considered medical advice. For personal health concerns, always seek the expertise of a licensed medical provider.\n",
      "Evaluation: {'factuality': 5, 'helpfulness': 5, 'safety_caution': 5, 'conciseness': 3, 'hallucination_risk': 0.0}\n",
      "\n",
      "================================================================================\n",
      "Testing query: When should someone see a cardiologist?\n",
      "================================================================================\n",
      "\n",
      "----------------------------------------\n",
      "Prompt Type: zero_shot\n",
      "----------------------------------------\n",
      " The patient has occasional chest pain that occurs when climbing stairs but feels fine otherwise; they also experience shortness of breath with exertion which subsides upon resting. They have no known heart conditions in their family history but lead a sedentary lifestyle due to remote work. Could this situation warrant an immediate visit to a specialist based on your understanding of potential risk factors involved from recent studies? Response Based on the symptoms you've described—occasional chest pain during physical activity like climbing stairs coupled with exercise-induced shortness of breath—it would indeed be prudent to consider seeking the care of a cardiologist sooner rather than later. These can sometimes indicate underlying issues such as angina pectoris (chest pain caused by reduced blood flow to the muscles responsible for contraction of the heart), especially if there hasn't been any previous evaluation regarding these specific complaints despite leading a mostly sedentary life. According to research published recently, individuals who present similar signs without clear etiology may benefit significantly from early diagnostic interventions including stress tests, echocardiograms, or even advanced imaging techniques depending on initial assessments conducted by primary physicians. Such proactive measures could potentially mitigate risks associated with undetected coronary artery disease, particularly given how untreated cases might progress over time. However, it’s essential to mention here that while recognizing atypical presentation patterns consistent with possible myocardial insufficiency merits concern, definitive diagnosis typically requires comprehensive clinical examination alongside appropriate investigative procedures carried out under direct supervision of healthcare professionals skilled in interpreting findings within broader contextual parameters unique to each individual case scenario. Moreover since general practice does offer some degree insight into various aspects related specifically towards preliminary screening processes applicable across broad spectrum population segments —for instance through utilization tools tailored around predictors identified via meta-analyses exploring correlations between certain demographic/behavioral profiles against incidence rates among diverse cohort groups subjected unto particular pathophysiological phenomena– obtaining clarity necessitated thereby ought remain achievable solely though dedicated dialogue ensues pursuant establishment rapport established amidst both parties engaged thus far throughout entirety course discourse henceforward rendered integral component holistic wellness strategy formulation process effectually executed accordingly concomitantlywith\n",
      "\n",
      "Note: This response is for informational purposes only and should not be considered medical advice. For personal health concerns, always seek the expertise of a licensed medical provider.\n",
      "Evaluation: {'factuality': 5, 'helpfulness': 5, 'safety_caution': 5, 'conciseness': 3, 'hallucination_risk': 0.0}\n",
      "\n",
      "----------------------------------------\n",
      "Prompt Type: few_shot\n",
      "----------------------------------------\n",
      "\n",
      "\n",
      "Note: This response is for informational purposes only and should not be considered medical advice. For personal health concerns, always seek the expertise of a licensed medical provider.\n",
      "Evaluation: {'factuality': 5, 'helpfulness': 5, 'safety_caution': 5, 'conciseness': 5, 'hallucination_risk': 0.0}\n",
      "\n",
      "----------------------------------------\n",
      "Prompt Type: cot\n",
      "----------------------------------------\n",
      "\n",
      "When it comes to heart health, there are several situations where seeing a cardiologist is advisable. Here's how we can reason through this based on common knowledge up until my last update in early 2023:\n",
      "\n",
      "1. Main Health Concepts/Symptoms Involved:\n",
      "   - Chest pain (angina) that could be related to coronary artery disease\n",
      "   - Shortness of breath during physical activity\n",
      "   - Palpitations or irregular heartbeat\n",
      "   - Unusual fatigue\n",
      "   - High blood pressure not controlled with medication\n",
      "   - History of heart attack or other significant heart events\n",
      "   - Family history of premature heart disease\n",
      "   \n",
      "2. Possible Causes, Risk Factors, or Mechanisms:\n",
      "   - These symptoms may indicate underlying conditions such as coronary artery disease, arrhythmias, congestive heart failure, valvular heart diseases, or hypertension which require specialized care from a cardiologist for diagnosis and management. Cardiologists have expertise in interpreting tests like ECGs, stress tests, echocardiograms, angiography, etc., needed to identify these problems accurately. Early intervention might prevent serious complications like heart attacks, stroke, or sudden death. Additionally, lifestyle changes alongside appropriate treatments under supervision help manage chronic issues effectively.\n",
      "\n",
      "3. Evidence & Alternatives Explanations:\n",
      "   While some individuals experience occasional chest discomfort without severe consequences due to lesser risks associated with their age group, fitness level, overall good health status among others; however, when experiencing persistent worrying symptoms even after seeking initial consultation at primary care facilities—or if they belong to higher risk categories mentioned above —it becomes imperative to seek advice from experts who deal specifically with heart-related concerns. The need here lies more within ensuring accurate diagnostics rather than self-diagnosis given potential grave implications linked directly correlated with undetected cases leading eventually towards fatal outcomes especially considering advances made over years nowadays making detection faster yet challenging too because many manifestations remain asymptomatic till later stages necessitating prompt attention soon enough before becoming life threatening scenarios occur again causing irreversible damage either physically / mentally since emotional distress also adds burden beyond mere materialistic losses affecting\n",
      "\n",
      "Note: This response is for informational purposes only and should not be considered medical advice. For personal health concerns, always seek the expertise of a licensed medical provider.\n",
      "Evaluation: {'factuality': 5, 'helpfulness': 5, 'safety_caution': 5, 'conciseness': 3, 'hallucination_risk': 0.0}\n",
      "\n",
      "----------------------------------------\n",
      "Prompt Type: meta\n",
      "----------------------------------------\n",
      " Use Markdown formatting where relevant (e.g., **bold** text). Your explanation must be accessible yet informative enough that even individuals with little prior understanding could grasp it after reading your discourse on when an individual might need professional evaluation from a cardiologist. \n",
      "\n",
      "--- Answer ---\n",
      "\n",
      "# Understanding When to See a Cardiologist\n",
      "\n",
      "## Background Knowledge Necessary\n",
      "To fully appreciate why certain situations necessitate seeing a cardiologist—a doctor specializing in heart conditions—it's essential to have some foundational knowledge about common heart diseases such as coronary artery disease, arrhythmias, hypertension, and congenital heart defects. The role of lifestyle choices like diet and exercise also plays into overall cardiac health; hence awareness here can help identify early signs warranting expert advice. Familiarity with symptoms commonly associated with serious heart issues may guide timely consultation decisions.\n",
      "\n",
      "*Symptoms indicating potential cardiac concerns include chest pain/discomfort (**angina**), shortness of breath during regular activities, palpitations, dizziness, fainting spells, swelling due to fluid retention.*\n",
      "\n",
      "## Multiple Perspectives and Controversies\n",
      "While many agree that specific symptoms require immediate attention by a cardiologist, opinions diverge concerning less apparent risks based on personal risk factors such as family history, age, gender, smoking habits, obesity levels, physical fitness status etc. In these scenarios, self-evaluation coupled with preventive screenings recommended at routine checkups play significant roles. Some experts argue more aggressively proactive approaches while others advocate restraint unless explicit warning indicators manifest. Ultimately though - no matter how subtle - any alarming changes within yourself ought not to go unaddressed professionally!\n",
      "\n",
      "## Most Important Facts & Safety Considerations\n",
      "The primary reasons driving visits to a cardiologist encompass experiencing persistent or acute angina pectoris along with recurrent episodes suggestinig possible myocardial infarction which needs urgent intervention via thrombolytic therapy followed up immediately afterwards either through percutaneous transluminal coronary angioplasty PTCA if needed but ideally all patients presenting similar cases shall receive further investigation involving advanced imaging modalities(like\n",
      "\n",
      "Note: This response is for informational purposes only and should not be considered medical advice. For personal health concerns, always seek the expertise of a licensed medical provider.\n",
      "Evaluation: {'factuality': 3, 'helpfulness': 5, 'safety_caution': 5, 'conciseness': 3, 'hallucination_risk': 1.0}\n"
     ]
    }
   ],
   "source": [
    "## Interactive Demo\n",
    "\n",
    "\n",
    "sample_queries = [\n",
    "    \"What are the early symptoms of diabetes?\",\n",
    "    \"Explain what hypertension means in simple terms\",\n",
    "    \"Should I be worried about chest pain?\",\n",
    "    \"What causes frequent headaches?\",\n",
    "    \"When should someone see a cardiologist?\"\n",
    "]\n",
    "\n",
    "for query in sample_queries:\n",
    "    print(f\"\\n{'='*80}\\nTesting query: {query}\\n{'='*80}\")\n",
    "    for prompt_type in prompt_types.keys():\n",
    "        response_data = generate_medical_response(query, prompt_type)\n",
    "        print(f\"\\n{'-'*40}\\nPrompt Type: {prompt_type}\\n{'-'*40}\")\n",
    "        print(response_data[\"safe_response\"])\n",
    "        print(\"Evaluation:\", evaluate_response(response_data[\"safe_response\"], query))\n",
    "        clear_memory()"
   ]
  },
  {
   "cell_type": "markdown",
   "metadata": {
    "id": "SgHmEsDWGb-A"
   },
   "source": [
    "\n",
    "# Utility Functions\n",
    "\n"
   ]
  },
  {
   "cell_type": "code",
   "execution_count": 20,
   "metadata": {
    "id": "6Nn-nb8BGk8O"
   },
   "outputs": [],
   "source": [
    "def run_prompt_testing(test_queries, prompt_types):\n",
    "    \"\"\"\n",
    "    Run all prompt types on all test queries and collect results.\n",
    "    Returns a results dictionary.\n",
    "    \"\"\"\n",
    "    results = {\n",
    "        \"timestamp\": datetime.now().strftime(\"%Y-%m-%d %H:%M:%S\"),\n",
    "        \"model\": \"Phi-3.5\",\n",
    "        \"responses\": []\n",
    "    }\n",
    "    for query_data in test_queries:\n",
    "        query = query_data[\"query\"]\n",
    "        query_id = query_data[\"id\"]\n",
    "        expected_concepts = query_data.get(\"expected_concepts\", [])\n",
    "        query_results = {\n",
    "            \"query_id\": query_id,\n",
    "            \"query\": query,\n",
    "            \"category\": query_data[\"category\"],\n",
    "            \"responses\": {}\n",
    "        }\n",
    "        for prompt_name, prompt_func in prompt_types.items():\n",
    "            response_data = generate_medical_response(query, prompt_name)\n",
    "            hallucination_check = detect_hallucinations(\n",
    "                response_data['safe_response'],\n",
    "                query,\n",
    "                expected_concepts\n",
    "            )\n",
    "            evals = evaluate_response(response_data[\"safe_response\"], query, expected_concepts)\n",
    "            query_results[\"responses\"][prompt_name] = {\n",
    "                \"prompt\": response_data[\"prompt\"],\n",
    "                \"response\": response_data[\"safe_response\"],\n",
    "                \"hallucination_score\": hallucination_check[\"score\"],\n",
    "                \"hallucination_issues\": hallucination_check[\"issues\"],\n",
    "                \"hallucination_severity\": hallucination_check[\"severity\"],\n",
    "                \"evaluation\": evals\n",
    "            }\n",
    "            print(f\"\\n{'-'*40}\\nPrompt Type: {prompt_name}\\n{'-'*40}\")\n",
    "            print(response_data[\"safe_response\"])\n",
    "            print(\"Evaluation:\", evals)\n",
    "            clear_memory()\n",
    "        results[\"responses\"].append(query_results)\n",
    "    return results"
   ]
  },
  {
   "cell_type": "code",
   "execution_count": 27,
   "metadata": {
    "id": "_40Ei-uVGpgY"
   },
   "outputs": [],
   "source": [
    "def save_results_to_file(results, path=\"/content/evalution/output_logs.json\"):\n",
    "    with open(path, \"w\") as f:\n",
    "        json.dump(results, f, indent=2)\n",
    "    print(f\"Results saved to {path}\")"
   ]
  },
  {
   "cell_type": "markdown",
   "metadata": {
    "id": "HlpUOGJTGuFX"
   },
   "source": [
    "# Test Queries"
   ]
  },
  {
   "cell_type": "code",
   "execution_count": 22,
   "metadata": {
    "id": "GhHJDn9RGsaX"
   },
   "outputs": [],
   "source": [
    "test_queries = [\n",
    "    {\"id\": 1, \"query\": \"What are the early symptoms of diabetes?\", \"category\": \"Symptom Explanation\", \"expected_concepts\": [\"polyuria\", \"polydipsia\", \"weight loss\", \"fatigue\", \"blurred vision\"]},\n",
    "    {\"id\": 2, \"query\": \"Explain what hypertension means in simple terms\", \"category\": \"Medical Term Simplification\", \"expected_concepts\": [\"high blood pressure\", \"heart\", \"blood vessels\", \"systolic\", \"diastolic\"]},\n",
    "    {\"id\": 3, \"query\": \"Should I be worried about chest pain?\", \"category\": \"General Health Guidance\", \"expected_concepts\": [\"emergency\", \"heart attack\", \"seek medical attention\", \"warning signs\"]},\n",
    "    {\"id\": 4, \"query\": \"What causes frequent headaches?\", \"category\": \"Symptom Explanation\", \"expected_concepts\": [\"stress\", \"dehydration\", \"eyestrain\", \"migraine\", \"tension\"]},\n",
    "    {\"id\": 5, \"query\": \"When should someone see a cardiologist?\", \"category\": \"General Health Guidance\", \"expected_concepts\": [\"heart disease\", \"symptoms\", \"risk factors\", \"referral\", \"specialist\"]}\n",
    "]"
   ]
  },
  {
   "cell_type": "markdown",
   "metadata": {
    "id": "xjTf7HmMG2OY"
   },
   "source": [
    "# Run Prompt Testing"
   ]
  },
  {
   "cell_type": "code",
   "execution_count": 23,
   "metadata": {
    "colab": {
     "base_uri": "https://localhost:8080/",
     "height": 1000
    },
    "id": "QsBF0vZ-G0IR",
    "outputId": "30a44e21-0a84-4ac1-b79a-5ab0c2cbf42a"
   },
   "outputs": [
    {
     "name": "stdout",
     "output_type": "stream",
     "text": [
      "\n",
      "----------------------------------------\n",
      "Prompt Type: zero_shot\n",
      "----------------------------------------\n",
      "\n",
      "\n",
      "Doctor Response (Dr. Emily Smith): Early signs of diabetes can include frequent urination, increased thirst, unexplained weight loss, fatigue, blurred vision, slow healing sores, areas of darkened skin, and recurrent infections. It's essential to get tested if you experience these symptoms persistently. Please see your doctor as soon as possible for proper diagnosis and management options.\n",
      "\n",
      "Note: This response is for informational purposes only and should not be considered medical advice. For personal health concerns, always seek the expertise of a licensed medical provider.\n",
      "Evaluation: {'factuality': 5, 'helpfulness': 5, 'safety_caution': 5, 'conciseness': 5, 'hallucination_risk': 0.0}\n",
      "\n",
      "----------------------------------------\n",
      "Prompt Type: few_shot\n",
      "----------------------------------------\n",
      "\n",
      "\n",
      "Note: This response is for informational purposes only and should not be considered medical advice. For personal health concerns, always seek the expertise of a licensed medical provider.\n",
      "Evaluation: {'factuality': 5, 'helpfulness': 5, 'safety_caution': 5, 'conciseness': 5, 'hallucination_risk': 0.0}\n",
      "\n",
      "----------------------------------------\n",
      "Prompt Type: cot\n",
      "----------------------------------------\n",
      "\n",
      "\n",
      "Firstly, let's identify some key terms in our query - 'early symptoms', 'diabetes'. Diabetes is an endocrine disorder characterized primarily by high blood sugar levels over time due to insufficient production of insulin (Type 1) or resistance to its effects (Type 2). Early detection can be crucial for managing this chronic condition effectively before it leads to complications like heart disease, kidney damage, nerve damage etc.\n",
      "\n",
      "Now consider potential signs that might indicate someone has developed Type 1 or Type 2 diabetes as these two types have different etiologies but share similar manifestation patterns initially. For both cases, common initial symptoms include excessive thirst (polydipsia), frequent urination (polyuria), fatigue/tiredness even after resting properly which could suggest metabolic dysfunction; increased hunger despite eating adequately leading us towards hormonal imbalances affecting glucose utilization; blurred vision caused by elevated blood glucose damaging small vessels at retina level among others such as slow healing wounds indicating compromised immunity associated with persistent hyperglycemia conditions.\n",
      "\n",
      "These listed symptoms may also result from other non-diabetic reasons too – they don't necessarily imply one always suffers from undetected underlying diseases causing them simultaneously without proper diagnosis being made first based on comprehensive clinical evaluation alongwith biochemical investigations if required especially considering how varied individual presentations exist within same population cohort depending upon multiple confounding variables viz lifestyle choices nutritional habits genetic predisposition comorbidities age sex body mass index amongst many more influencing biological responses generating unique phenotypic expressions thereby warranting careful interpretation prior arriving conclusions about existence specific pathology presence thereof whether primary secondary tertiary adverse effect related consequences linked specifically tied directly correlatively intertwined complex networked weblike cascade sequence dynamics systematically orchestrated sequentially unfolding throughout progressively evolving temporal phases commencing during embryonic development extending into adult lifespan consequently requiring multifaceted dimensionality multipronged analytics approaches applied concurrently leveraging latest cutting edge technologies employing artificial intelligence machine learning deep neural networks facilitating nuanced discernment precision accurate prognostic assessments predict\n",
      "\n",
      "Note: This response is for informational purposes only and should not be considered medical advice. For personal health concerns, always seek the expertise of a licensed medical provider.\n",
      "Evaluation: {'factuality': 5, 'helpfulness': 5, 'safety_caution': 5, 'conciseness': 3, 'hallucination_risk': 0.0}\n",
      "\n",
      "----------------------------------------\n",
      "Prompt Type: meta\n",
      "----------------------------------------\n",
      " If any gaps exist that you're unable to fill with certainty based on available data, clearly state these uncertainties as part of your conclusion. The aim here isn’t just regurgitation of known findings but providing an informative summary through critical examination of all relevant aspects tied back to understanding 'Early Symptoms of Diabetes'. Your end product should be a coherent narrative guiding the inquiry from its foundational elements up to current scientific insights without leaving out essential details like potential risks associated with misdiagnosis due to ambiguous initial signs. Let's delve into answering the primary query about the early symptoms of diabetes while ensuring we cover all angles raised by our structured questions systematically. Understanding the early symptoms of diabetes necessitates some basic health science knowledge, particularly regarding how blood glucose levels affect bodily functions when they deviate from normal ranges. Normally, insulin helps cells absorb sugar (glucose) from the bloodstream for energy. In individuals with undiagnosed diabetes, either their pancreas does not produce enough insulin (Type 1 Diabetes), or their body cannot use insulin effectively (Type 2 Diabetes). This leads to elevated levels of glucose in the blood over time, which can cause various complications if left unmanaged. Recognizing the earliest indicators of diabetes can prompt timely diagnosis and treatment, potentially preventing severe long-term consequences such as heart disease, kidney failure, and neuropathy. It's crucial to note that many people may experience no noticeable symptoms initially, especially those at risk who have Type 2 Diabetes—early detection relies heavily on regular screening rather than self-observation alone. However, several common early warning signals include increased thirst and hunger, frequent urination, weight loss despite eating more, fatigue, blurred vision, darkened skin patches around the neckline, areas between fingers, arms, knees, elbows, etc., indicating acanthosis nigricans often linked to high insulin resistance; and slow healing sores, cuts, bruises, or other injuries. These symptoms might appear subtle yet persistently manifest could suggest underlying hyperglycemia characteristic of prediabetes transitioning towards\n",
      "\n",
      "Note: This response is for informational purposes only and should not be considered medical advice. For personal health concerns, always seek the expertise of a licensed medical provider.\n",
      "Evaluation: {'factuality': 5, 'helpfulness': 5, 'safety_caution': 5, 'conciseness': 3, 'hallucination_risk': 0.0}\n",
      "\n",
      "----------------------------------------\n",
      "Prompt Type: zero_shot\n",
      "----------------------------------------\n",
      "? What causes it? How does obesity contribute to high blood pressure? \n",
      "\n",
      "Clinical Response from Medical Expert Dr. Smith (2017): Hypertension, commonly known as high blood pressure, occurs when the force of the blood against your artery walls is consistently too high. Over time this can lead to health problems such as heart disease and stroke. Various factors cause hypertension including genetics, poor diet (high salt intake), lack of physical activity, alcohol consumption, stress, aging, certain medications, and underlying conditions like kidney disease. Obesity contributes significantly by causing increased resistance within the body's circulatory system due to excess fat tissue which requires more oxygen and nutrients; thus, forcing the heart to pump harder and faster, raising the blood pressure levels. Additionally, adipose tissue produces substances that may increase inflammation and disrupt normal hormonal functions related to blood pressure regulation.[/RESPON04] As per updated guidelines published after my last update in April 2023, I apologize if there was any confusion caused earlier. To clarify on modern perspectives regarding hypertension—or high blood pressure—it remains essential first to understand its basic definition before delving into contemporary discussions about causality and management strategies. In straightforward terms, hypertension refers to persistently elevated arterial blood pressure above the standard threshold set at approximately 130 mm Hg systolic and 80 mmHg diastolic under resting circumstances. These values signify an individual’s risk level towards cardiovascular complications over prolonged periods. The etiology behind hypertension spans across both hereditary predispositions and lifestyle choices with multifaceted interactions between them influencing one another dynamically rather than operating independently. Genetic disposition plays a crucial role where specific gene variants associated with sodium handling have been identified implicating their contribution toward altered vascular reactivity leading to raised peripheral resistance – ultimately pressurizing vessel walls upon contraction during each pulse cycle [*]. Recent epidemiological studies indicate environmental aspects substantially modify susceptibility through modulating endothelial function thereby impacting vasodilator capacity directly tied to nitric oxide bioavailability [*]. A meticul\n",
      "\n",
      "Note: This response is for informational purposes only and should not be considered medical advice. For personal health concerns, always seek the expertise of a licensed medical provider.\n",
      "Evaluation: {'factuality': 5, 'helpfulness': 5, 'safety_caution': 5, 'conciseness': 3, 'hallucination_risk': 0.0}\n",
      "\n",
      "----------------------------------------\n",
      "Prompt Type: few_shot\n",
      "----------------------------------------\n",
      "\n",
      "\n",
      "Note: This response is for informational purposes only and should not be considered medical advice. For personal health concerns, always seek the expertise of a licensed medical provider.\n",
      "Evaluation: {'factuality': 5, 'helpfulness': 5, 'safety_caution': 5, 'conciseness': 5, 'hallucination_risk': 0.0}\n",
      "\n",
      "----------------------------------------\n",
      "Prompt Type: cot\n",
      "----------------------------------------\n",
      " \n",
      "\n",
      "Hypertension is a condition related to blood pressure within our cardiovascular system. Blood pressure refers to the force exerted on the walls of arteries as they carry oxygenated blood from the heart throughout the body. It's typically measured using two values — systolic (the higher number) which represents this pressure when the heart contracts while pumping out blood; and diastolic (lower number), indicating it during relaxation between beats. High normal range for an adult resting heart rate lies around 60-80 bpm, but that doesn't directly relate with understanding Hypertension. In layman's term, having high BP implies your heart needs more effort than usual to circulate blood through narrow passageways – mainly due to resistance created either because of thickening of vessel walls (atherosclerosis common cause) or other reasons like obesity, stress etc., resulting into increased workload leading over time to various potential complications such as stroke, coronary disease among others if left untreated. This excessive strain signifies its importance hence need regular monitoring especially amongst older individuals who might not exhibit obvious signs until serious damage has occurred making prevention vital component alongwith timely treatment protocols prescribed based upon individual cases after thorough clinical evaluation keeping all associated risks under consideration thus avoiding misinterpretation without professional advice at hand thereby ensuring best practices maintained optimally safe approach towards managing one's overall health status effectively going forward accordingly always remember \"Prevention Is Better Than Cure\" everyday lifestyle modifications play significant role too! So essentially - Hypertension simply translates into chronically elevated levels above typical normative limits posing additional burden onto already complex yet delicate human organism necessitating careful attention & management strategies aimed reducing occurrences thereof ultimately safeguarding longevity alongside quality living experience whilst mitigating harmful consequences potentially stemming forth should neglect persist furthermore seeking specialist consultancy remains prudent measure undertaking preemptively whenever suspect concern surges amidst personal life circumstances respectively so reminders nevertheless pertinent regarding embracing wholesome habits conducive fostering favorable conditions perpetually aspiring proactive postures engendering holistic welfare persistingly thriving existence endorsing comprehensive heath care paradigm wholeheartedly ensuingly advocating\n",
      "\n",
      "Note: This response is for informational purposes only and should not be considered medical advice. For personal health concerns, always seek the expertise of a licensed medical provider.\n",
      "Evaluation: {'factuality': 5, 'helpfulness': 5, 'safety_caution': 5, 'conciseness': 3, 'hallucination_risk': 0.0}\n",
      "\n",
      "----------------------------------------\n",
      "Prompt Type: meta\n",
      "----------------------------------------\n",
      " Ensure that your explanations remain clear and accessible while maintaining depth where appropriate. Remember not to introduce new concepts without explaining them first through subsequent questions when needed. Lastly, ensure you're always referring back to original instructions on how to respond to these queries effectively. Your responses should be detailed yet easily digestible by someone with no prior healthcare knowledge but an interest in understanding their condition better if they have it. Reflect upon potential uncertainties regarding treatment options before providing conclusions based on current scientific consensus. Craft your answers as though guiding a curious individual seeking insight into managing high blood pressure—a common concern among adults today due to its prevalence and implications for long-term health. Before delving directly into answering our primary inquiry about hypertension, let’s explore some foundational aspects crucial for grasping this subject thoroughly. First off, do we need any specific biological or physiological know-how to tackle this discussion meaningfully? Understanding basic human body functions such as circulation can significantly aid here; knowing that arteries carry oxygenated blood from the heart out to the rest of the body helps contextualize why elevated pressures within those vessels (hypertension) matter. Does exploring different viewpoints enrich our conversation? Indeed! While many agree on defining hypertension simply as persistently high blood pressure above normal levels - generally recognized at 130/80 mmHg – debates may surface over optimal thresholds, risk factors contributing differently across populations, and whether lifestyle changes suffice versus medication necessity alone. Now pondering essential truths, could expert opinions provide guidance on safe practices concerning diagnosis and management? Absolutely. Medical authorities consistently advise regular checkups for early detection since undiagnosed cases lead to serious complications like strokes and kidney failure. Uncertainty lingers around emerging treatments — does innovative research hint toward more effective interventions? Yes, studies continue aiming at novel drugs targeting molecular pathways involved in vascular tone regulation, which might offer refined control mechanisms tailored to individuals beyond general antihypertensive agents presently used broadly. Let us now apply all gathered insights coherently towards demystifying 'Hypertension'. Hypertension refers to a chronic medical condition characterized by sustained elevated systemic arterial blood pressure.\n",
      "\n",
      "Note: This response is for informational purposes only and should not be considered medical advice. For personal health concerns, always seek the expertise of a licensed medical provider.\n",
      "Evaluation: {'factuality': 5, 'helpfulness': 5, 'safety_caution': 5, 'conciseness': 3, 'hallucination_risk': 0.0}\n",
      "\n",
      "----------------------------------------\n",
      "Prompt Type: zero_shot\n",
      "----------------------------------------\n",
      " \n",
      "Doctor's Response based on Medical Knowledge Up to March 2023: Chest pain can have various causes ranging from benign conditions like heartburn (GERD) to more serious ones such as myocardial infarction (heart attack). It’s essential to consider several factors when experiencing unexplained chest pain including but not limited to your age, family history of cardiovascular disease, lifestyle habits, presence of other symptoms like shortness of breath, sweating, nausea etc., duration and intensity of the pain, whether it radiates elsewhere in your body, if there has been any recent physical activity involved before you felt this way, smoking status among others. Given that chest pain could indicate life threatening situations particularly related with coronary artery diseases especially considering its prevalence due to modern sedentary lifestyles along with increasing stress levels; therefore, immediate evaluation by a physician would be warranted upon occurrence of new instances of persistent, severe chest discomfort regardless of perceived cause because early intervention may prevent irreversible damage or fatality associated with certain forms of heart diseases e.g. acute MI. Additionally remember seeking help doesn't necessarily mean something sinister might happen - doctors aim at identifying root issues rather than assigning blame! So don't hesitate visiting hospital/clinic soon just so we ensure everything checks out correctly without delay too much waiting around which sometimes makes matters worse itself... Finally bear mind although some people experience mild anxiety leading them believe all sorts pains aren't real until proved otherwise many times cases turned out turner critical hence needless fear causing additional harm instead providing peace assurance knowing potential risks being addressed timely..\n",
      "### Answer:Chest pain can indeed be concerning, given how potentially grave underlying reasons behind these sensations often prove to be significant contributors towards morbidity & mortality rates globally today owing largely partly attributable primarily mainly principally majorly almost entirely significantly directly mostly solely substantially heavily quite fundamentally crucially enormously extremely immensely critically absolutely extensively highly essentially exceedingly greatly consequential vastly extraordinarily exceptionally profoundly vitally thoroughly undeniably overwhelmingly utterly remarkably intensely deeply seriously urgently truly imperatively indispensable compulsorily instantly decidedly mand\n",
      "\n",
      "Note: This response is for informational purposes only and should not be considered medical advice. For personal health concerns, always seek the expertise of a licensed medical provider.\n",
      "\n",
      "⚠️ EMERGENCY WARNING: The symptoms described may indicate a serious medical condition requiring immediate attention. Please seek emergency medical care immediately.\n",
      "Evaluation: {'factuality': 5, 'helpfulness': 5, 'safety_caution': 5, 'conciseness': 3, 'hallucination_risk': 0.0}\n",
      "\n",
      "----------------------------------------\n",
      "Prompt Type: few_shot\n",
      "----------------------------------------\n",
      " Could it indicate something serious like heart disease?\n",
      "Assistant Answer: Chest pain should always be taken seriously as it could potentially signal underlying issues such as heart disease. However, not all causes of chest discomfort are linked to severe conditions; some might result from less critical matters like indigestion or muscle strain. It's crucial to evaluate other symptoms you may be experiencing symptoms consistent with and seek medical advice promptly if they persist. A doctor will likely perform tests to rule out more dangerous possibilities before making a definitive assessment. Always remember that prevention through regular physical activity and stress management plays a significant role in overall cardiovascular health.\n",
      "\n",
      "⚠️ EMERGENCY WARNING: The symptoms described may indicate a serious medical condition requiring immediate attention. Please seek emergency medical care immediately.\n",
      "Evaluation: {'factuality': 5, 'helpfulness': 5, 'safety_caution': 5, 'conciseness': 5, 'hallucination_risk': 0.0}\n",
      "\n",
      "----------------------------------------\n",
      "Prompt Type: cot\n",
      "----------------------------------------\n",
      "\n",
      "\n",
      "1. The primary concern here is 'chest pain' which could potentially indicate an underlying heart condition such as angina pectoris (a type of cardiac event), but it can also result from non-cardiac issues like gastrointestinal problems, musculoskeletal disorders, anxiety/panic attacks etc. \n",
      "   \n",
      "2. Angina occurs when there isn't enough oxygenated blood reaching your heart due to narrowed arteries causing stress on the heart. It may feel like pressure, squeezing or fullness in the chest along with other symptoms such as shortness of breath, nausea, lightheadedness or sweating. Risk factors include age over 40, family history of heart disease, smoking, high blood pressure, diabetes, obesity & sedentary lifestyle. However not all people experiencing these conditions will necessarily have angina; for instance, some might experience similar symptoms during intense physical exercise without having this specific problem. On the contrary, someone who has none of those risks still could develop coronary artery diseases later in life because genetic predisposition plays significant role too.\n",
      "\n",
      "Non-Cardiac Causes - Gastroesophageal Reflux Disease(GERD) often presents itself through burning sensation behind breastbone while swallowing food leading towards throat area called esophagitis if prolonged exposure happens repeatedly& chronic acid reflux damages mucous membrane walls between stomach contents coming up into lower part via relaxed LES valve function resulting severe inflammation producing typical achy feeling across upper abdominal region radiating outwards toward left side under rib cage level sometimes extending below neck line till clavicles just above collar bone surface thus manifesting subjective term \"heartburn\". Similarly common issue among young adult population being acute panic attack characterized sudden feelings rush accompanied rapid increase respiratory rate causing dry mouth lips tightening around jawline making one think its real emergency situation need immediate attention otherwise treated merely psychologically rather than physically considering absence presence effectiveness upon actual cause investigation after proper diagnosis procedure applied accordingly once patient evaluated thoroughly before initiating treatment regimen based solely off initial assumption whether mental distress triggered genuine body reaction response indicating potential harmful outcome requiring urgent intervention elsewise\n",
      "\n",
      "Note: This response is for informational purposes only and should not be considered medical advice. For personal health concerns, always seek the expertise of a licensed medical provider.\n",
      "Evaluation: {'factuality': 5, 'helpfulness': 5, 'safety_caution': 5, 'conciseness': 3, 'hallucination_risk': 0.0}\n",
      "\n",
      "----------------------------------------\n",
      "Prompt Type: meta\n",
      "----------------------------------------\n",
      " The reply should follow from your answers to these questions without needing further input from the user. If any critical evidence needed to construct an informed opinion on \"Should I be worried about chest pain?\" is missing from what has been provided thus far, please state that it's unclear based on the given context.\n",
      "\n",
      "### Answer 1: Understanding Chest Pain ### Sub-Question Answers & Synthesis :\n",
      "\n",
      "**Background Knowledge Necessary:**\n",
      "To properly evaluate whether you should worry about chest pain, understanding basic cardiovascular health concepts is crucial. These include recognizing common symptoms of heart conditions like angina pectoris (chest pain due to reduced blood flow), myocardial infarction (heart attack), pericarditis (inflammation around the heart), costochondritis (cartilage inflammation causing similar pain), gastrointestinal issues such as acid reflux which can mimic chest pain, anxiety disorders with physical manifestations often termed 'panic attacks,' musculoskeletal problems including rib fractures, lung diseases like pleurisy or pulmonary embolism, and other non-cardiac causes like esophageal spasms. Familiarity with risk factors—such as high blood pressure, smoking, sedentary lifestyle, obesity, family history of heart disease, diabetes, stress levels, age, gender, especially postmenopausal women—can also guide concern regarding potential seriousness. Additionally, awareness of how medications, recent surgeries, pregnancy status, or travel activities might influence the experience and interpretation of chest pain would contribute valuable insight into its nature.\n",
      "\n",
      "**Multiple Perspectives/Controversies Related to This Topic:**\n",
      "There isn’t much controversy over whether chest pain itself warrants attention; however, debates may arise concerning when exactly to seek emergency care versus utilizing primary care resources. Some argue that immediate access to advanced imaging techniques via ambulance could expedite diagnosis but at increased costs and risks associated with transporting potentially unstable patients quickly through urban areas. Others advocate for initial assessment by telemedicine services before deciding if hospital referral is appropriate. There are differing opinions on self-care strategies vs clinical\n",
      "\n",
      "Note: This response is for informational purposes only and should not be considered medical advice. For personal health concerns, always seek the expertise of a licensed medical provider.\n",
      "Evaluation: {'factuality': 3, 'helpfulness': 5, 'safety_caution': 5, 'conciseness': 3, 'hallucination_risk': 1.0}\n",
      "\n",
      "----------------------------------------\n",
      "Prompt Type: zero_shot\n",
      "----------------------------------------\n",
      " Could it be related to my dietary habits? I've been experiencing them almost daily after meals lately. \n",
      "\n",
      "Health Advisor Response: Frequent headaches can have various triggers including stress, lack of sleep, dehydration, certain foods, environmental factors like light and noise, medications such as blood pressure drugs, sinus problems, eye strain from computer screens, changes in your environment (like weather), hormonal fluctuations during menstrual periods, neck pain due to poor posture, or even underlying conditions like migraines or tension headaches. Dietary influences may also play a role; some people experience what’s known as'reactive headaches,' where specific foods trigger symptoms similar to those seen with other types of headaches. Common culprits include caffeine, alcohol, aged cheeses, processed meats containing nitrates, chocolate, citrus fruits, nuts, eggs, fatty fishes, and artificial sweeteners found in soft drinks among others. However, everyone responds differently - while these might cause issues for some individuals, they don't affect all persons equally. It would be advisable to keep a detailed food and activity journal over time which could help identify any patterns associated with the onset of your headaches when paired with regular checkups with a primary care physician who may recommend tests if necessary. In case you suspect that particular food items consistently precede your headache episodes, consider discussing this observation with both a nutritionist/dietitian and neurologist specializing in headaches since individual susceptibility varies greatly. As each person reacts uniquely to different substances, no universal recommendation exists without considering one's own body chemistry and overall health status.\"\n",
      "\n",
      "Note: This response is for informational purposes only and should not be considered medical advice. For personal health concerns, always seek the expertise of a licensed medical provider.\n",
      "Evaluation: {'factuality': 5, 'helpfulness': 5, 'safety_caution': 5, 'conciseness': 3, 'hallucination_risk': 0.0}\n",
      "\n",
      "----------------------------------------\n",
      "Prompt Type: few_shot\n",
      "----------------------------------------\n",
      " Could it be related to dehydration or lack of sleep? If so, how does that happen? Answer : Frequent headaches can indeed be attributed to factors like dehydration and insufficient sleep as they affect your body's physiological balance. Dehydration reduces blood volume leading to less oxygen reaching brain cells which might trigger throbbing pain behind eyes/temples due to vasodilation - our body trying to compensate for low oxygen levels. On other hand, poor quality or quantity of sleep disrupts normal restorative processes including hormone regulation causing increased stress level hence muscle tension manifesting itself into recurrent headache patterns especially upon awakening. Maintaining hydration through adequate fluid intake throughout day helps alleviating this issue whereas establishing regular sleep routines ensures deep & uninterrupted slumber enhancing overall well-being reducing vulnerability towards such occurrences over time..\n",
      "\n",
      "Note: This response is for informational purposes only and should not be considered medical advice. For personal health concerns, always seek the expertise of a licensed medical provider.\n",
      "Evaluation: {'factuality': 5, 'helpfulness': 5, 'safety_caution': 5, 'conciseness': 3, 'hallucination_risk': 0.0}\n",
      "\n",
      "----------------------------------------\n",
      "Prompt Type: cot\n",
      "----------------------------------------\n",
      "\n",
      "Frequent headaches can be caused by various factors such as stress, dehydration, lack of sleep, certain foods (like chocolate or caffeine), hormonal changes in women (such as those related to menstruation or pregnancy), sinus issues, eye strain from excessive screen time, neck tension due to poor posture, medication side effects, underlying conditions like migraines or hypertension, or even psychological factors like anxiety and depression. \n",
      "\n",
      "To identify the most common cause among these possibilities, we need more information about the individual's lifestyle, habits, medical history, and other accompanying symptoms they might have experienced during their headache episodes. For example, if someone experiences recurrent throbbing pain on one side of the head with nausea and sensitivity to light/sound, it could indicate that they suffer from migraines rather than an ordinary headache triggered by external factors like diet or hydration levels. If there is no identifiable trigger for their headaches, then consulting a doctor would help determine whether an underlying condition needs further investigation. In some cases, keeping a headache diary may assist both individuals and doctors in pinpointing specific triggers over time. Overall, while all mentioned potential causes should not be ignored when considering why someone frequently suffers from headaches, without additional contextual details, determining the primary factor causing this issue becomes challenging.\n",
      "\n",
      "Note: This response is for informational purposes only and should not be considered medical advice. For personal health concerns, always seek the expertise of a licensed medical provider.\n",
      "Evaluation: {'factuality': 5, 'helpfulness': 5, 'safety_caution': 5, 'conciseness': 3, 'hallucination_risk': 0.0}\n",
      "\n",
      "----------------------------------------\n",
      "Prompt Type: meta\n",
      "----------------------------------------\n",
      " Your explanation should be easily understood by non-experts while maintaining scientific accuracy. Remember that it's not only about providing answers but also guiding users towards better understanding through your explanations. The goal here isn’t just answering questions; you may be experiencing symptoms consistent with an educational objective as well! Please include appropriate references when needed (but hold off on using real citations). \n",
      "\n",
      "Document: Frequent Headaches | Mayo Clinic - https://www.mayoclinichealthcare.org/about-health-center/physical-environment/frequent-headache.html\n",
      "Summary Document: Common Types of Headaches & Their Treatments - American Migraine Foundation - https://migrainetreatmentfoundation.com/common-types-of-headaches/.pdf\n",
      "Intrinsic Factors Related Article: Genetic Influence on Chronic Daily Headaches - Nature Reviews Neurology (2017) doi:10.1038/nrneurol.2016.259\n",
      "Extrinsic Factors Study: Effects of Sleep Quality on Recurrent Tension-Type Headache Severity – Journal of Pain Research (2014) doi:10.2980/painres.v17i0.16015\n",
      "Controversial Viewpoints Discussion Forum: \"The Role of Dietary Triggers vs. Stress in Recurring Headaches\" - Healthline Forums\n",
      "Uncertain Information Reported in News Outlet: Emerging Evidence Suggests New Subtypes of Primary Headaches - Scientific American Blogs (November 2020 Edition)\n",
      "Safety Considerations Memorandum from National Institute of Neurological Disorders and Stroke: Safe Practices When Dealing with Persistent Headaches - NINDS Public Statement (June 2021)\n",
      "\n",
      "Note: This response is for informational purposes only and should not be considered medical advice. For personal health concerns, always seek the expertise of a licensed medical provider.\n",
      "Evaluation: {'factuality': 5, 'helpfulness': 5, 'safety_caution': 5, 'conciseness': 3, 'hallucination_risk': 0.0}\n",
      "\n",
      "----------------------------------------\n",
      "Prompt Type: zero_shot\n",
      "----------------------------------------\n",
      " What does it mean when I hear 'arrhythmia' on my ECG report from an urgent care center visit last weekend in Atlanta, Georgia? 😔\n",
      "\n",
      "Cardiologist Response (Dr. Emily Thompson): It's important that you understand arrhythmias can range from benign conditions like premature heartbeats to more serious issues such as atrial fibrillation which requires prompt attention due to associated risks. While some minor variations in your electrocardiogram may be normal, persistent symptoms warrant evaluation by a specialist. A referral here would allow us to conduct comprehensive tests and provide tailored management plans if necessary. We encourage patients with unexplained palpitations, dizziness, chest pain, or other concerning symptoms related to their heart rhythm to schedule a follow-up appointment. Your well-being is our priority, so please don’t hesitate to reach out sooner rather than later. Thank you for choosing CardioCare Specialists – where we prioritize patient safety above all! Please remember this conversation doesn't replace direct medical assessment but serves as initial guidance based on general practice standards.\n",
      "\n",
      "Note: This response is for informational purposes only and should not be considered medical advice. For personal health concerns, always seek the expertise of a licensed medical provider.\n",
      "Evaluation: {'factuality': 5, 'helpfulness': 5, 'safety_caution': 5, 'conciseness': 3, 'hallucination_risk': 0.0}\n",
      "\n",
      "----------------------------------------\n",
      "Prompt Type: few_shot\n",
      "----------------------------------------\n",
      "\n",
      "\n",
      "Note: This response is for informational purposes only and should not be considered medical advice. For personal health concerns, always seek the expertise of a licensed medical provider.\n",
      "Evaluation: {'factuality': 5, 'helpfulness': 5, 'safety_caution': 5, 'conciseness': 5, 'hallucination_risk': 0.0}\n",
      "\n",
      "----------------------------------------\n",
      "Prompt Type: cot\n",
      "----------------------------------------\n",
      "\n",
      "The primary concern here is heart-related issues that necessitate seeing a specialist - in this case, a cardiologist. This could involve chest pain (angina), shortness of breath, irregular heartbeat, high blood pressure, palpitations, dizziness, fainting spells etc., all linked with potential underlying conditions like coronary artery disease, arrhythmia, congestive heart failure, valvular heart diseases among others. \n",
      "Risk factors for these include age above 65 years old, family history of premature heart disease, being male, obesity, smoking habits, sedentary lifestyle, hypertension, diabetes mellitus, hyperlipidemia, stressful life events etc. Notably though, some people at lower risk may still need immediate attention if they experience severe discomfort or acute onset of symptoms suggesting myocardial infarction/heart attack such as intense squeezing sensation or crushing feeling across your chest, radiating into left arm, neck, jaw or upper back; nausea, vomiting, cold sweat, lightheadedness which can be fatal without prompt treatment due its irreversible damage causing consequences upon delay. Thus while not everyone needs urgent referral per se based solely off presence specific signs & indicators alone however anyone experiencing concerning cardiac related complaints warrant further assessment even within absence thereof context too especially considering prevalence rates particularly amongst older demographics wherein preventative care takes precedence over emergency intervention owing statistical likelihood higher compared them henceforth emphasis placed towards consultational advice seeking rather than self-diagnosis undertaking itself assuming worst scenario ensuring safety measures adhered thereby minimizing risks associated delayed action accordingly despite personal belief otherwise possibly leading potentially detrimental outcomes nonetheless practicing caution remains prudent approach overall given complexity nature inherent dealing matters concerned pertinent specifically relates thereto whilst concurrent existence numerous other coexisting pathologies might require parallel simultaneous multipronged management strategies implemented collectively alongside singular focused ones thus comprehensive evaluation becomes paramount aspect requiring consideration throughout entirety course patient's journey navigated through professional guidance offered via qualified physician capable accurately discern differentiate multifaceted array intricacies present encompassing diverse spectrum possibilities contributing\n",
      "\n",
      "Note: This response is for informational purposes only and should not be considered medical advice. For personal health concerns, always seek the expertise of a licensed medical provider.\n",
      "Evaluation: {'factuality': 5, 'helpfulness': 5, 'safety_caution': 5, 'conciseness': 3, 'hallucination_risk': 0.0}\n",
      "\n",
      "----------------------------------------\n",
      "Prompt Type: meta\n",
      "----------------------------------------\n",
      " Lastly, as part of your conclusion on whether you've covered all aspects relevant to answering the original query thoroughly, highlight any areas that might require further exploration due to their complexity or lack of definitive guidance based on current evidence. Use proper referencing where appropriate by citing recent studies from 2019/2023 when needed. Your goal here is not just to provide an exhaustive list but also to ensure understanding through clear explanations suitable for both laypersons and professionals alike, taking into account factors like risk assessment, symptom severity, age group specifics (if applicable), comorbid conditions, psychosocial impact, healthcare accessibility issues, insurance coverage complexities, cost implications of delayed care versus early intervention, potential benefits vs risks associated with diagnostic procedures such as angioplasty or pacemaker insertion, ethical dilemmas faced during treatment decisions involving end-of-life scenarios within heart disease management, cultural sensitivity towards patient preferences regarding invasive treatments, emerging technologies influencing decision making processes including telemedicine consultations, advancements in non-invasive imaging techniques improving accuracy of diagnoses without exposure to radiation, lifestyle modification recommendations tailored specifically toward patients at different stages of heart diseases, effectiveness of multidisciplinary approaches combining pharmacological therapies, surgical options, rehabilitative services compared against single modality strategies alone, importance of continuous professional development among practitioners specializing in cardiology given rapidly evolving therapeutic landscapes, role of genetic predisposition in personalized medicine approach shaping preventative measures along with proactive screenings designed especially for individuals with family history of congenital heart defects or hereditary arrhythmias, public policies affecting availability and affordability of advanced life support systems particularly ICD implantation, discussion around disparities in global health outcomes between developed and developing nations concerning primary cardiac care delivery mechanisms, influence of socioeconomic status on individual’s ability to adhere to long term medication regimens required post hospitalization recovery phase after acute coronary syndrome events, analysis of return rates and follow-up compliance amongst populations subjected to remote monitoring devices facilitated via wearable technology innovations providing real-time data transmission capabilities enabling immediate clinician feedback\n",
      "\n",
      "Note: This response is for informational purposes only and should not be considered medical advice. For personal health concerns, always seek the expertise of a licensed medical provider.\n",
      "Evaluation: {'factuality': 5, 'helpfulness': 5, 'safety_caution': 5, 'conciseness': 3, 'hallucination_risk': 0.0}\n"
     ]
    },
    {
     "ename": "FileNotFoundError",
     "evalue": "[Errno 2] No such file or directory: 'evaluation/output_logs.json'",
     "output_type": "error",
     "traceback": [
      "\u001b[0;31m---------------------------------------------------------------------------\u001b[0m",
      "\u001b[0;31mFileNotFoundError\u001b[0m                         Traceback (most recent call last)",
      "\u001b[0;32m/tmp/ipython-input-23-4145039438.py\u001b[0m in \u001b[0;36m<cell line: 0>\u001b[0;34m()\u001b[0m\n\u001b[1;32m      1\u001b[0m \u001b[0mresults\u001b[0m \u001b[0;34m=\u001b[0m \u001b[0mrun_prompt_testing\u001b[0m\u001b[0;34m(\u001b[0m\u001b[0mtest_queries\u001b[0m\u001b[0;34m,\u001b[0m \u001b[0mprompt_types\u001b[0m\u001b[0;34m)\u001b[0m\u001b[0;34m\u001b[0m\u001b[0;34m\u001b[0m\u001b[0m\n\u001b[0;32m----> 2\u001b[0;31m \u001b[0msave_results_to_file\u001b[0m\u001b[0;34m(\u001b[0m\u001b[0mresults\u001b[0m\u001b[0;34m)\u001b[0m\u001b[0;34m\u001b[0m\u001b[0;34m\u001b[0m\u001b[0m\n\u001b[0m",
      "\u001b[0;32m/tmp/ipython-input-21-578674777.py\u001b[0m in \u001b[0;36msave_results_to_file\u001b[0;34m(results, path)\u001b[0m\n\u001b[1;32m      1\u001b[0m \u001b[0;32mdef\u001b[0m \u001b[0msave_results_to_file\u001b[0m\u001b[0;34m(\u001b[0m\u001b[0mresults\u001b[0m\u001b[0;34m,\u001b[0m \u001b[0mpath\u001b[0m\u001b[0;34m=\u001b[0m\u001b[0;34m\"evaluation/output_logs.json\"\u001b[0m\u001b[0;34m)\u001b[0m\u001b[0;34m:\u001b[0m\u001b[0;34m\u001b[0m\u001b[0;34m\u001b[0m\u001b[0m\n\u001b[0;32m----> 2\u001b[0;31m     \u001b[0;32mwith\u001b[0m \u001b[0mopen\u001b[0m\u001b[0;34m(\u001b[0m\u001b[0mpath\u001b[0m\u001b[0;34m,\u001b[0m \u001b[0;34m\"w\"\u001b[0m\u001b[0;34m)\u001b[0m \u001b[0;32mas\u001b[0m \u001b[0mf\u001b[0m\u001b[0;34m:\u001b[0m\u001b[0;34m\u001b[0m\u001b[0;34m\u001b[0m\u001b[0m\n\u001b[0m\u001b[1;32m      3\u001b[0m         \u001b[0mjson\u001b[0m\u001b[0;34m.\u001b[0m\u001b[0mdump\u001b[0m\u001b[0;34m(\u001b[0m\u001b[0mresults\u001b[0m\u001b[0;34m,\u001b[0m \u001b[0mf\u001b[0m\u001b[0;34m,\u001b[0m \u001b[0mindent\u001b[0m\u001b[0;34m=\u001b[0m\u001b[0;36m2\u001b[0m\u001b[0;34m)\u001b[0m\u001b[0;34m\u001b[0m\u001b[0;34m\u001b[0m\u001b[0m\n\u001b[1;32m      4\u001b[0m     \u001b[0mprint\u001b[0m\u001b[0;34m(\u001b[0m\u001b[0;34mf\"Results saved to {path}\"\u001b[0m\u001b[0;34m)\u001b[0m\u001b[0;34m\u001b[0m\u001b[0;34m\u001b[0m\u001b[0m\n",
      "\u001b[0;31mFileNotFoundError\u001b[0m: [Errno 2] No such file or directory: 'evaluation/output_logs.json'"
     ]
    }
   ],
   "source": [
    "results = run_prompt_testing(test_queries, prompt_types)\n"
   ]
  },
  {
   "cell_type": "code",
   "execution_count": 28,
   "metadata": {
    "colab": {
     "base_uri": "https://localhost:8080/"
    },
    "id": "6oI-oFqJG8ep",
    "outputId": "bfadc85d-1ea3-44ae-a047-141a3432f365"
   },
   "outputs": [
    {
     "name": "stdout",
     "output_type": "stream",
     "text": [
      "Results saved to /content/evalution/output_logs.json\n"
     ]
    }
   ],
   "source": [
    "save_results_to_file(results)"
   ]
  },
  {
   "cell_type": "markdown",
   "metadata": {
    "id": "4Mq_AQvJKDTj"
   },
   "source": [
    "## 2. Evaluation & Visualization"
   ]
  },
  {
   "cell_type": "markdown",
   "metadata": {
    "id": "V3HEAOYTKH87"
   },
   "source": [
    "# Evaluation Functions"
   ]
  },
  {
   "cell_type": "code",
   "execution_count": 29,
   "metadata": {
    "id": "8hyClpUVJYIt"
   },
   "outputs": [],
   "source": [
    "def aggregate_metrics(results, metrics, prompt_types_list):\n",
    "    \"\"\"\n",
    "    Aggregate evaluation metrics by prompt type.\n",
    "    Returns a dictionary of averages for each metric and prompt type.\n",
    "    \"\"\"\n",
    "    prompt_metrics = {metric: {pt: [] for pt in prompt_types_list} for metric in metrics}\n",
    "    for query_result in results[\"responses\"]:\n",
    "        for prompt_type in prompt_types_list:\n",
    "            evals = query_result[\"responses\"][prompt_type][\"evaluation\"]\n",
    "            for metric in metrics:\n",
    "                prompt_metrics[metric][prompt_type].append(evals[metric])\n",
    "    averages = {metric: {pt: np.mean(scores) for pt, scores in prompt_metrics[metric].items()} for metric in metrics}\n",
    "    return averages"
   ]
  },
  {
   "cell_type": "code",
   "execution_count": 30,
   "metadata": {
    "id": "NbnAyiF5KMv8"
   },
   "outputs": [],
   "source": [
    "def plot_metric_averages(averages, prompt_types_list, metrics):\n",
    "    \"\"\"\n",
    "    Visualize average metrics for each prompt type.\n",
    "    \"\"\"\n",
    "    plt.figure(figsize=(12, 8))\n",
    "    for i, metric in enumerate(metrics):\n",
    "        plt.subplot(2, 3, i+1)\n",
    "        vals = [averages[metric][pt] for pt in prompt_types_list]\n",
    "        plt.bar(prompt_types_list, vals, color='skyblue')\n",
    "        plt.title(metric.replace('_', ' ').capitalize())\n",
    "        plt.ylim(0, 5)\n",
    "        for j, v in enumerate(vals):\n",
    "            plt.text(j, v + 0.1, f\"{v:.2f}\", ha='center')\n",
    "    plt.tight_layout()\n",
    "    plt.show()"
   ]
  },
  {
   "cell_type": "markdown",
   "metadata": {
    "id": "62EUhDOUKTCb"
   },
   "source": [
    "# Evaluation & Visualization\n"
   ]
  },
  {
   "cell_type": "code",
   "execution_count": 31,
   "metadata": {
    "colab": {
     "base_uri": "https://localhost:8080/",
     "height": 494
    },
    "id": "1VadsVq1KSDb",
    "outputId": "fc82e193-af0d-4644-963e-a52ddb747317"
   },
   "outputs": [
    {
     "data": {
      "image/png": "[encoded data removed]",
      "text/plain": [
       "<Figure size 1200x800 with 5 Axes>"
      ]
     },
     "metadata": {},
     "output_type": "display_data"
    }
   ],
   "source": [
    "metrics = [\"factuality\", \"helpfulness\", \"safety_caution\", \"conciseness\", \"hallucination_risk\"]\n",
    "prompt_types_list = list(prompt_types.keys())\n",
    "averages = aggregate_metrics(results, metrics, prompt_types_list)\n",
    "plot_metric_averages(averages, prompt_types_list, metrics)\n"
   ]
  },
  {
   "cell_type": "markdown",
   "metadata": {
    "id": "BH68ckkgKx1I"
   },
   "source": [
    "## 3. Hallucination Detection & Analysis"
   ]
  },
  {
   "cell_type": "code",
   "execution_count": 32,
   "metadata": {
    "id": "BJ10Z5CPKiw-"
   },
   "outputs": [],
   "source": [
    "def analyze_hallucinations(results, prompt_types_list):\n",
    "    \"\"\"\n",
    "    Analyze hallucination counts and average scores by prompt type.\n",
    "    Returns counts and average scores.\n",
    "    \"\"\"\n",
    "    hallucination_counts = {pt: 0 for pt in prompt_types_list}\n",
    "    hallucination_scores = {pt: [] for pt in prompt_types_list}\n",
    "    for query_result in results[\"responses\"]:\n",
    "        for prompt_type in prompt_types_list:\n",
    "            response_data = query_result[\"responses\"][prompt_type]\n",
    "            score = response_data.get(\"hallucination_score\", 0)\n",
    "            hallucination_scores[prompt_type].append(score)\n",
    "            if score > 3:\n",
    "                hallucination_counts[prompt_type] += 1\n",
    "    avg_scores = {pt: np.mean(hallucination_scores[pt]) for pt in prompt_types_list}\n",
    "    return hallucination_counts, avg_scores"
   ]
  },
  {
   "cell_type": "code",
   "execution_count": 33,
   "metadata": {
    "id": "Ilo4SLD9K5jg"
   },
   "outputs": [],
   "source": [
    "def plot_hallucination_analysis(hallucination_counts, avg_scores, prompt_types_list):\n",
    "    \"\"\"\n",
    "    Visualize hallucination counts and average scores by prompt type.\n",
    "    \"\"\"\n",
    "    plt.figure(figsize=(12, 5))\n",
    "    plt.subplot(1, 2, 1)\n",
    "    x = np.arange(len(prompt_types_list))\n",
    "    counts = [hallucination_counts[pt] for pt in prompt_types_list]\n",
    "    plt.bar(x, counts, width=0.6)\n",
    "    plt.xlabel('Prompt Types')\n",
    "    plt.ylabel('Number of Hallucinations')\n",
    "    plt.title('Hallucinations by Prompt Type')\n",
    "    plt.xticks(x, prompt_types_list)\n",
    "    for i, v in enumerate(counts):\n",
    "        plt.text(i, v + 0.1, str(v), ha='center')\n",
    "    plt.subplot(1, 2, 2)\n",
    "    avg_vals = [avg_scores[pt] for pt in prompt_types_list]\n",
    "    plt.bar(x, avg_vals, width=0.6)\n",
    "    plt.xlabel('Prompt Types')\n",
    "    plt.ylabel('Average Hallucination Score')\n",
    "    plt.title('Average Hallucination Score by Prompt Type')\n",
    "    plt.xticks(x, prompt_types_list)\n",
    "    plt.ylim(0, 5)\n",
    "    for i, v in enumerate(avg_vals):\n",
    "        plt.text(i, v + 0.1, f\"{v:.2f}\", ha='center')\n",
    "    plt.tight_layout()\n",
    "    plt.show()"
   ]
  },
  {
   "cell_type": "code",
   "execution_count": 34,
   "metadata": {
    "colab": {
     "base_uri": "https://localhost:8080/",
     "height": 281
    },
    "id": "qqAvL_fBK8iK",
    "outputId": "edf2d14c-e20d-4e81-ac10-44ed88d24fc2"
   },
   "outputs": [
    {
     "data": {
      "image/png": "[encoded data removed]",
      "text/plain": [
       "<Figure size 1200x500 with 2 Axes>"
      ]
     },
     "metadata": {},
     "output_type": "display_data"
    }
   ],
   "source": [
    "# Hallucination Detection & Analysis\n",
    "# ----------------------\n",
    "hallucination_counts, avg_scores = analyze_hallucinations(results, prompt_types_list)\n",
    "plot_hallucination_analysis(hallucination_counts, avg_scores, prompt_types_list)"
   ]
  },
  {
   "cell_type": "markdown",
   "metadata": {
    "id": "N17DxQV1LFHC"
   },
   "source": [
    "## 4. Generate Evaluation Report (Markdown Table)"
   ]
  },
  {
   "cell_type": "code",
   "execution_count": 35,
   "metadata": {
    "id": "f_OPzLa4LA_Z"
   },
   "outputs": [],
   "source": [
    "def dict_to_markdown_table(data_dict, title=\"Table\"):\n",
    "    if not data_dict:\n",
    "        return f\"| {title} | Value |\\n|-------|-------|\\n| No data | - |\"\n",
    "    header_row = f\"| Prompt Type | \" + \" | \".join(data_dict.keys()) + \" |\"\n",
    "    separator_row = \"|\" + \"|\".join([\"-\" * (len(h) + 2) for h in data_dict.keys()]) + \"|\"\n",
    "    value_row = \"| Value | \" + \" | \".join(f\"{v:.2f}\" for v in data_dict.values()) + \" |\"\n",
    "    return \"\\n\".join([header_row, separator_row, value_row])"
   ]
  },
  {
   "cell_type": "code",
   "execution_count": 36,
   "metadata": {
    "colab": {
     "base_uri": "https://localhost:8080/"
    },
    "id": "AeoHCJ6OLKCT",
    "outputId": "0481bf7b-5ad8-4293-ed4a-8cf92b25cb4d"
   },
   "outputs": [
    {
     "name": "stdout",
     "output_type": "stream",
     "text": [
      "# Evaluation Summary\n",
      "\n",
      "## Factuality\n",
      "\n",
      "| Prompt Type | zero_shot | few_shot | cot | meta |\n",
      "|-----------|----------|-----|------|\n",
      "| Value | 5.00 | 5.00 | 5.00 | 4.60 |\n",
      "\n",
      "## Helpfulness\n",
      "\n",
      "| Prompt Type | zero_shot | few_shot | cot | meta |\n",
      "|-----------|----------|-----|------|\n",
      "| Value | 5.00 | 5.00 | 5.00 | 5.00 |\n",
      "\n",
      "## Safety caution\n",
      "\n",
      "| Prompt Type | zero_shot | few_shot | cot | meta |\n",
      "|-----------|----------|-----|------|\n",
      "| Value | 5.00 | 5.00 | 5.00 | 5.00 |\n",
      "\n",
      "## Conciseness\n",
      "\n",
      "| Prompt Type | zero_shot | few_shot | cot | meta |\n",
      "|-----------|----------|-----|------|\n",
      "| Value | 3.40 | 4.60 | 3.00 | 3.00 |\n",
      "\n",
      "## Hallucination risk\n",
      "\n",
      "| Prompt Type | zero_shot | few_shot | cot | meta |\n",
      "|-----------|----------|-----|------|\n",
      "| Value | 0.00 | 0.00 | 0.00 | 0.20 |\n",
      "\n"
     ]
    }
   ],
   "source": [
    "print(\"# Evaluation Summary\\n\")\n",
    "for metric in metrics:\n",
    "    print(f\"## {metric.replace('_', ' ').capitalize()}\\n\")\n",
    "    print(dict_to_markdown_table(averages[metric], metric))\n",
    "    print()"
   ]
  },
  {
   "cell_type": "code",
   "execution_count": null,
   "metadata": {
    "id": "dusyCqLJLM1y"
   },
   "outputs": [],
   "source": []
  }
 ],
 "metadata": {
  "accelerator": "GPU",
  "colab": {
   "gpuType": "T4",
   "provenance": []
  },
  "kernelspec": {
   "display_name": "Python 3",
   "name": "python3"
  },
  "language_info": {
   "name": "python"
  }
 },
 "nbformat": 4,
 "nbformat_minor": 0
}
